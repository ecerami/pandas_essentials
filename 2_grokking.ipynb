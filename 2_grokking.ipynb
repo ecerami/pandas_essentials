{
 "cells": [
  {
   "cell_type": "markdown",
   "metadata": {
    "collapsed": true
   },
   "source": [
    "# Pandas Essentials:  Loading and Grokking your Data\n",
    "\n",
    "This Pandas Notebook illustrates the essentials of loading and \"grokking\" or understanding your data.  Concepts are illustrated with the [New York City pizza restaurant inspection data](https://github.com/ecerami/pydata-essentials/blob/master/pandas/data/NYC_Pizza_2017.csv).\n",
    "\n",
    "Topics include:\n",
    "\n",
    "* Loading data\n",
    "* Grokking your data set:\n",
    "    * Getting the shape of your data\n",
    "    * Peaking at your data\n",
    "    * Understanding indexes, columns and data types\n",
    "    * Generating descriptive statistics for your data\n"
   ]
  },
  {
   "cell_type": "markdown",
   "metadata": {},
   "source": [
    "# Loading Data"
   ]
  },
  {
   "cell_type": "code",
   "execution_count": 16,
   "metadata": {
    "collapsed": true
   },
   "outputs": [],
   "source": [
    "# Loading data via pd.read_csv\n",
    "import pandas as pd\n",
    "pizza_df = pd.read_csv(\"data/NYC_Pizza_2017.csv\")"
   ]
  },
  {
   "cell_type": "markdown",
   "metadata": {},
   "source": [
    "# Grokking your data"
   ]
  },
  {
   "cell_type": "markdown",
   "metadata": {},
   "source": [
    "## Getting the shape of your data"
   ]
  },
  {
   "cell_type": "code",
   "execution_count": 17,
   "metadata": {},
   "outputs": [
    {
     "data": {
      "text/plain": [
       "(1148, 10)"
      ]
     },
     "execution_count": 17,
     "metadata": {},
     "output_type": "execute_result"
    }
   ],
   "source": [
    "# Determine dimensions of data frame\n",
    "pizza_df.shape"
   ]
  },
  {
   "cell_type": "code",
   "execution_count": 20,
   "metadata": {},
   "outputs": [
    {
     "data": {
      "text/plain": [
       "1148"
      ]
     },
     "execution_count": 20,
     "metadata": {},
     "output_type": "execute_result"
    }
   ],
   "source": [
    "# the shape attribute is a tuple, and you can extract individual elements\n",
    "# for example, to extract the number of rows, just get the 0th element of the tuple\n",
    "pizza_df.shape[0]"
   ]
  },
  {
   "cell_type": "markdown",
   "metadata": {},
   "source": [
    "## Peeking at your data"
   ]
  },
  {
   "cell_type": "code",
   "execution_count": 3,
   "metadata": {},
   "outputs": [
    {
     "data": {
      "text/html": [
       "<div>\n",
       "<table border=\"1\" class=\"dataframe\">\n",
       "  <thead>\n",
       "    <tr style=\"text-align: right;\">\n",
       "      <th></th>\n",
       "      <th>CAMIS</th>\n",
       "      <th>DBA</th>\n",
       "      <th>BORO</th>\n",
       "      <th>BUILDING</th>\n",
       "      <th>STREET</th>\n",
       "      <th>ZIPCODE</th>\n",
       "      <th>CUISINE DESCRIPTION</th>\n",
       "      <th>SCORE</th>\n",
       "      <th>GRADE</th>\n",
       "      <th>GRADE DATE</th>\n",
       "    </tr>\n",
       "  </thead>\n",
       "  <tbody>\n",
       "    <tr>\n",
       "      <th>0</th>\n",
       "      <td>40363644</td>\n",
       "      <td>DOMINO'S</td>\n",
       "      <td>MANHATTAN</td>\n",
       "      <td>464</td>\n",
       "      <td>3 AVENUE</td>\n",
       "      <td>10016.0</td>\n",
       "      <td>Pizza</td>\n",
       "      <td>4.0</td>\n",
       "      <td>A</td>\n",
       "      <td>2017-03-30</td>\n",
       "    </tr>\n",
       "    <tr>\n",
       "      <th>1</th>\n",
       "      <td>40363945</td>\n",
       "      <td>DOMINO'S</td>\n",
       "      <td>MANHATTAN</td>\n",
       "      <td>148</td>\n",
       "      <td>WEST   72 STREET</td>\n",
       "      <td>10023.0</td>\n",
       "      <td>Pizza</td>\n",
       "      <td>12.0</td>\n",
       "      <td>A</td>\n",
       "      <td>2017-03-02</td>\n",
       "    </tr>\n",
       "    <tr>\n",
       "      <th>2</th>\n",
       "      <td>40364920</td>\n",
       "      <td>RIZZO'S FINE PIZZA</td>\n",
       "      <td>QUEENS</td>\n",
       "      <td>3013</td>\n",
       "      <td>STEINWAY STREET</td>\n",
       "      <td>11103.0</td>\n",
       "      <td>Pizza</td>\n",
       "      <td>12.0</td>\n",
       "      <td>A</td>\n",
       "      <td>2016-11-03</td>\n",
       "    </tr>\n",
       "    <tr>\n",
       "      <th>3</th>\n",
       "      <td>40365280</td>\n",
       "      <td>COMO PIZZA</td>\n",
       "      <td>MANHATTAN</td>\n",
       "      <td>4035</td>\n",
       "      <td>BROADWAY</td>\n",
       "      <td>10032.0</td>\n",
       "      <td>Pizza</td>\n",
       "      <td>10.0</td>\n",
       "      <td>A</td>\n",
       "      <td>2016-08-29</td>\n",
       "    </tr>\n",
       "    <tr>\n",
       "      <th>4</th>\n",
       "      <td>40365632</td>\n",
       "      <td>J&amp;V FAMOUS PIZZA</td>\n",
       "      <td>BROOKLYN</td>\n",
       "      <td>6322</td>\n",
       "      <td>18 AVENUE</td>\n",
       "      <td>11204.0</td>\n",
       "      <td>Pizza</td>\n",
       "      <td>2.0</td>\n",
       "      <td>A</td>\n",
       "      <td>2017-04-05</td>\n",
       "    </tr>\n",
       "  </tbody>\n",
       "</table>\n",
       "</div>"
      ],
      "text/plain": [
       "      CAMIS                 DBA       BORO BUILDING            STREET  \\\n",
       "0  40363644            DOMINO'S  MANHATTAN      464          3 AVENUE   \n",
       "1  40363945            DOMINO'S  MANHATTAN      148  WEST   72 STREET   \n",
       "2  40364920  RIZZO'S FINE PIZZA     QUEENS     3013   STEINWAY STREET   \n",
       "3  40365280          COMO PIZZA  MANHATTAN     4035          BROADWAY   \n",
       "4  40365632    J&V FAMOUS PIZZA   BROOKLYN     6322         18 AVENUE   \n",
       "\n",
       "   ZIPCODE CUISINE DESCRIPTION  SCORE GRADE  GRADE DATE  \n",
       "0  10016.0               Pizza    4.0     A  2017-03-30  \n",
       "1  10023.0               Pizza   12.0     A  2017-03-02  \n",
       "2  11103.0               Pizza   12.0     A  2016-11-03  \n",
       "3  10032.0               Pizza   10.0     A  2016-08-29  \n",
       "4  11204.0               Pizza    2.0     A  2017-04-05  "
      ]
     },
     "execution_count": 3,
     "metadata": {},
     "output_type": "execute_result"
    }
   ],
   "source": [
    "pizza_df.head()"
   ]
  },
  {
   "cell_type": "code",
   "execution_count": 4,
   "metadata": {},
   "outputs": [
    {
     "data": {
      "text/html": [
       "<div>\n",
       "<table border=\"1\" class=\"dataframe\">\n",
       "  <thead>\n",
       "    <tr style=\"text-align: right;\">\n",
       "      <th></th>\n",
       "      <th>CAMIS</th>\n",
       "      <th>DBA</th>\n",
       "      <th>BORO</th>\n",
       "      <th>BUILDING</th>\n",
       "      <th>STREET</th>\n",
       "      <th>ZIPCODE</th>\n",
       "      <th>CUISINE DESCRIPTION</th>\n",
       "      <th>SCORE</th>\n",
       "      <th>GRADE</th>\n",
       "      <th>GRADE DATE</th>\n",
       "    </tr>\n",
       "  </thead>\n",
       "  <tbody>\n",
       "    <tr>\n",
       "      <th>1143</th>\n",
       "      <td>50059977</td>\n",
       "      <td>LUIGI'S PIZZA</td>\n",
       "      <td>MANHATTAN</td>\n",
       "      <td>2127</td>\n",
       "      <td>AMSTERDAM AVE</td>\n",
       "      <td>10032.0</td>\n",
       "      <td>Pizza</td>\n",
       "      <td>2.0</td>\n",
       "      <td>A</td>\n",
       "      <td>2017-03-03</td>\n",
       "    </tr>\n",
       "    <tr>\n",
       "      <th>1144</th>\n",
       "      <td>50060049</td>\n",
       "      <td>TRADITA BRICK OVEN PIZZA</td>\n",
       "      <td>BRONX</td>\n",
       "      <td>292</td>\n",
       "      <td>E 204TH ST</td>\n",
       "      <td>10467.0</td>\n",
       "      <td>Pizza</td>\n",
       "      <td>4.0</td>\n",
       "      <td>A</td>\n",
       "      <td>2017-03-27</td>\n",
       "    </tr>\n",
       "    <tr>\n",
       "      <th>1145</th>\n",
       "      <td>50060439</td>\n",
       "      <td>LA VERA PIZZA</td>\n",
       "      <td>MANHATTAN</td>\n",
       "      <td>922</td>\n",
       "      <td>2ND AVE</td>\n",
       "      <td>10017.0</td>\n",
       "      <td>Pizza</td>\n",
       "      <td>9.0</td>\n",
       "      <td>A</td>\n",
       "      <td>2017-03-24</td>\n",
       "    </tr>\n",
       "    <tr>\n",
       "      <th>1146</th>\n",
       "      <td>50060695</td>\n",
       "      <td>2 BROS PIZZA</td>\n",
       "      <td>QUEENS</td>\n",
       "      <td>16417</td>\n",
       "      <td>JAMAICA AVE</td>\n",
       "      <td>11432.0</td>\n",
       "      <td>Pizza</td>\n",
       "      <td>7.0</td>\n",
       "      <td>Z</td>\n",
       "      <td>2017-04-10</td>\n",
       "    </tr>\n",
       "    <tr>\n",
       "      <th>1147</th>\n",
       "      <td>50062741</td>\n",
       "      <td>LA ROMANA PIZZERIA</td>\n",
       "      <td>BROOKLYN</td>\n",
       "      <td>755</td>\n",
       "      <td>GRAND ST</td>\n",
       "      <td>11211.0</td>\n",
       "      <td>Pizza</td>\n",
       "      <td>6.0</td>\n",
       "      <td>A</td>\n",
       "      <td>2017-04-18</td>\n",
       "    </tr>\n",
       "  </tbody>\n",
       "</table>\n",
       "</div>"
      ],
      "text/plain": [
       "         CAMIS                       DBA       BORO BUILDING         STREET  \\\n",
       "1143  50059977             LUIGI'S PIZZA  MANHATTAN     2127  AMSTERDAM AVE   \n",
       "1144  50060049  TRADITA BRICK OVEN PIZZA      BRONX      292     E 204TH ST   \n",
       "1145  50060439             LA VERA PIZZA  MANHATTAN      922        2ND AVE   \n",
       "1146  50060695              2 BROS PIZZA     QUEENS    16417    JAMAICA AVE   \n",
       "1147  50062741        LA ROMANA PIZZERIA   BROOKLYN      755       GRAND ST   \n",
       "\n",
       "      ZIPCODE CUISINE DESCRIPTION  SCORE GRADE  GRADE DATE  \n",
       "1143  10032.0               Pizza    2.0     A  2017-03-03  \n",
       "1144  10467.0               Pizza    4.0     A  2017-03-27  \n",
       "1145  10017.0               Pizza    9.0     A  2017-03-24  \n",
       "1146  11432.0               Pizza    7.0     Z  2017-04-10  \n",
       "1147  11211.0               Pizza    6.0     A  2017-04-18  "
      ]
     },
     "execution_count": 4,
     "metadata": {},
     "output_type": "execute_result"
    }
   ],
   "source": [
    "pizza_df.tail()"
   ]
  },
  {
   "cell_type": "markdown",
   "metadata": {},
   "source": [
    "## Understanding indexes, columns and data types"
   ]
  },
  {
   "cell_type": "code",
   "execution_count": 5,
   "metadata": {},
   "outputs": [
    {
     "name": "stdout",
     "output_type": "stream",
     "text": [
      "<class 'pandas.core.frame.DataFrame'>\n",
      "RangeIndex: 1148 entries, 0 to 1147\n",
      "Data columns (total 10 columns):\n",
      "CAMIS                  1148 non-null int64\n",
      "DBA                    1148 non-null object\n",
      "BORO                   1148 non-null object\n",
      "BUILDING               1148 non-null object\n",
      "STREET                 1148 non-null object\n",
      "ZIPCODE                1148 non-null float64\n",
      "CUISINE DESCRIPTION    1148 non-null object\n",
      "SCORE                  1148 non-null float64\n",
      "GRADE                  1148 non-null object\n",
      "GRADE DATE             1148 non-null object\n",
      "dtypes: float64(2), int64(1), object(7)\n",
      "memory usage: 89.8+ KB\n"
     ]
    }
   ],
   "source": [
    "pizza_df.info()"
   ]
  },
  {
   "cell_type": "code",
   "execution_count": 6,
   "metadata": {},
   "outputs": [
    {
     "data": {
      "text/plain": [
       "RangeIndex(start=0, stop=1148, step=1)"
      ]
     },
     "execution_count": 6,
     "metadata": {},
     "output_type": "execute_result"
    }
   ],
   "source": [
    "pizza_df.index"
   ]
  },
  {
   "cell_type": "code",
   "execution_count": 7,
   "metadata": {},
   "outputs": [
    {
     "data": {
      "text/plain": [
       "Index([u'CAMIS', u'DBA', u'BORO', u'BUILDING', u'STREET', u'ZIPCODE',\n",
       "       u'CUISINE DESCRIPTION', u'SCORE', u'GRADE', u'GRADE DATE'],\n",
       "      dtype='object')"
      ]
     },
     "execution_count": 7,
     "metadata": {},
     "output_type": "execute_result"
    }
   ],
   "source": [
    "pizza_df.columns"
   ]
  },
  {
   "cell_type": "code",
   "execution_count": 8,
   "metadata": {},
   "outputs": [
    {
     "data": {
      "text/plain": [
       "CAMIS                    int64\n",
       "DBA                     object\n",
       "BORO                    object\n",
       "BUILDING                object\n",
       "STREET                  object\n",
       "ZIPCODE                float64\n",
       "CUISINE DESCRIPTION     object\n",
       "SCORE                  float64\n",
       "GRADE                   object\n",
       "GRADE DATE              object\n",
       "dtype: object"
      ]
     },
     "execution_count": 8,
     "metadata": {},
     "output_type": "execute_result"
    }
   ],
   "source": [
    "pizza_df.dtypes"
   ]
  },
  {
   "cell_type": "markdown",
   "metadata": {},
   "source": [
    "## Generating descriptive statistics for your data"
   ]
  },
  {
   "cell_type": "code",
   "execution_count": 9,
   "metadata": {},
   "outputs": [
    {
     "data": {
      "text/html": [
       "<div>\n",
       "<table border=\"1\" class=\"dataframe\">\n",
       "  <thead>\n",
       "    <tr style=\"text-align: right;\">\n",
       "      <th></th>\n",
       "      <th>CAMIS</th>\n",
       "      <th>ZIPCODE</th>\n",
       "      <th>SCORE</th>\n",
       "    </tr>\n",
       "  </thead>\n",
       "  <tbody>\n",
       "    <tr>\n",
       "      <th>count</th>\n",
       "      <td>1.148000e+03</td>\n",
       "      <td>1148.000000</td>\n",
       "      <td>1148.000000</td>\n",
       "    </tr>\n",
       "    <tr>\n",
       "      <th>mean</th>\n",
       "      <td>4.473970e+07</td>\n",
       "      <td>10740.940767</td>\n",
       "      <td>10.141986</td>\n",
       "    </tr>\n",
       "    <tr>\n",
       "      <th>std</th>\n",
       "      <td>4.373390e+06</td>\n",
       "      <td>568.064156</td>\n",
       "      <td>5.869539</td>\n",
       "    </tr>\n",
       "    <tr>\n",
       "      <th>min</th>\n",
       "      <td>4.036364e+07</td>\n",
       "      <td>10001.000000</td>\n",
       "      <td>0.000000</td>\n",
       "    </tr>\n",
       "    <tr>\n",
       "      <th>25%</th>\n",
       "      <td>4.114623e+07</td>\n",
       "      <td>10036.000000</td>\n",
       "      <td>7.000000</td>\n",
       "    </tr>\n",
       "    <tr>\n",
       "      <th>50%</th>\n",
       "      <td>4.161464e+07</td>\n",
       "      <td>11022.000000</td>\n",
       "      <td>10.000000</td>\n",
       "    </tr>\n",
       "    <tr>\n",
       "      <th>75%</th>\n",
       "      <td>5.001904e+07</td>\n",
       "      <td>11229.000000</td>\n",
       "      <td>12.000000</td>\n",
       "    </tr>\n",
       "    <tr>\n",
       "      <th>max</th>\n",
       "      <td>5.006274e+07</td>\n",
       "      <td>11694.000000</td>\n",
       "      <td>54.000000</td>\n",
       "    </tr>\n",
       "  </tbody>\n",
       "</table>\n",
       "</div>"
      ],
      "text/plain": [
       "              CAMIS       ZIPCODE        SCORE\n",
       "count  1.148000e+03   1148.000000  1148.000000\n",
       "mean   4.473970e+07  10740.940767    10.141986\n",
       "std    4.373390e+06    568.064156     5.869539\n",
       "min    4.036364e+07  10001.000000     0.000000\n",
       "25%    4.114623e+07  10036.000000     7.000000\n",
       "50%    4.161464e+07  11022.000000    10.000000\n",
       "75%    5.001904e+07  11229.000000    12.000000\n",
       "max    5.006274e+07  11694.000000    54.000000"
      ]
     },
     "execution_count": 9,
     "metadata": {},
     "output_type": "execute_result"
    }
   ],
   "source": [
    "# By default, describe() outputs summary data for numeric data only\n",
    "pizza_df.describe()"
   ]
  },
  {
   "cell_type": "code",
   "execution_count": 10,
   "metadata": {
    "scrolled": true
   },
   "outputs": [
    {
     "data": {
      "text/html": [
       "<div>\n",
       "<table border=\"1\" class=\"dataframe\">\n",
       "  <thead>\n",
       "    <tr style=\"text-align: right;\">\n",
       "      <th></th>\n",
       "      <th>CAMIS</th>\n",
       "      <th>DBA</th>\n",
       "      <th>BORO</th>\n",
       "      <th>BUILDING</th>\n",
       "      <th>STREET</th>\n",
       "      <th>ZIPCODE</th>\n",
       "      <th>CUISINE DESCRIPTION</th>\n",
       "      <th>SCORE</th>\n",
       "      <th>GRADE</th>\n",
       "      <th>GRADE DATE</th>\n",
       "    </tr>\n",
       "  </thead>\n",
       "  <tbody>\n",
       "    <tr>\n",
       "      <th>count</th>\n",
       "      <td>1.148000e+03</td>\n",
       "      <td>1148</td>\n",
       "      <td>1148</td>\n",
       "      <td>1148</td>\n",
       "      <td>1148</td>\n",
       "      <td>1148.000000</td>\n",
       "      <td>1148</td>\n",
       "      <td>1148.000000</td>\n",
       "      <td>1148</td>\n",
       "      <td>1148</td>\n",
       "    </tr>\n",
       "    <tr>\n",
       "      <th>unique</th>\n",
       "      <td>NaN</td>\n",
       "      <td>827</td>\n",
       "      <td>5</td>\n",
       "      <td>967</td>\n",
       "      <td>586</td>\n",
       "      <td>NaN</td>\n",
       "      <td>1</td>\n",
       "      <td>NaN</td>\n",
       "      <td>4</td>\n",
       "      <td>310</td>\n",
       "    </tr>\n",
       "    <tr>\n",
       "      <th>top</th>\n",
       "      <td>NaN</td>\n",
       "      <td>DOMINO'S</td>\n",
       "      <td>MANHATTAN</td>\n",
       "      <td>201</td>\n",
       "      <td>BROADWAY</td>\n",
       "      <td>NaN</td>\n",
       "      <td>Pizza</td>\n",
       "      <td>NaN</td>\n",
       "      <td>A</td>\n",
       "      <td>2017-02-22</td>\n",
       "    </tr>\n",
       "    <tr>\n",
       "      <th>freq</th>\n",
       "      <td>NaN</td>\n",
       "      <td>84</td>\n",
       "      <td>330</td>\n",
       "      <td>5</td>\n",
       "      <td>50</td>\n",
       "      <td>NaN</td>\n",
       "      <td>1148</td>\n",
       "      <td>NaN</td>\n",
       "      <td>1043</td>\n",
       "      <td>11</td>\n",
       "    </tr>\n",
       "    <tr>\n",
       "      <th>mean</th>\n",
       "      <td>4.473970e+07</td>\n",
       "      <td>NaN</td>\n",
       "      <td>NaN</td>\n",
       "      <td>NaN</td>\n",
       "      <td>NaN</td>\n",
       "      <td>10740.940767</td>\n",
       "      <td>NaN</td>\n",
       "      <td>10.141986</td>\n",
       "      <td>NaN</td>\n",
       "      <td>NaN</td>\n",
       "    </tr>\n",
       "    <tr>\n",
       "      <th>std</th>\n",
       "      <td>4.373390e+06</td>\n",
       "      <td>NaN</td>\n",
       "      <td>NaN</td>\n",
       "      <td>NaN</td>\n",
       "      <td>NaN</td>\n",
       "      <td>568.064156</td>\n",
       "      <td>NaN</td>\n",
       "      <td>5.869539</td>\n",
       "      <td>NaN</td>\n",
       "      <td>NaN</td>\n",
       "    </tr>\n",
       "    <tr>\n",
       "      <th>min</th>\n",
       "      <td>4.036364e+07</td>\n",
       "      <td>NaN</td>\n",
       "      <td>NaN</td>\n",
       "      <td>NaN</td>\n",
       "      <td>NaN</td>\n",
       "      <td>10001.000000</td>\n",
       "      <td>NaN</td>\n",
       "      <td>0.000000</td>\n",
       "      <td>NaN</td>\n",
       "      <td>NaN</td>\n",
       "    </tr>\n",
       "    <tr>\n",
       "      <th>25%</th>\n",
       "      <td>4.114623e+07</td>\n",
       "      <td>NaN</td>\n",
       "      <td>NaN</td>\n",
       "      <td>NaN</td>\n",
       "      <td>NaN</td>\n",
       "      <td>10036.000000</td>\n",
       "      <td>NaN</td>\n",
       "      <td>7.000000</td>\n",
       "      <td>NaN</td>\n",
       "      <td>NaN</td>\n",
       "    </tr>\n",
       "    <tr>\n",
       "      <th>50%</th>\n",
       "      <td>4.161464e+07</td>\n",
       "      <td>NaN</td>\n",
       "      <td>NaN</td>\n",
       "      <td>NaN</td>\n",
       "      <td>NaN</td>\n",
       "      <td>11022.000000</td>\n",
       "      <td>NaN</td>\n",
       "      <td>10.000000</td>\n",
       "      <td>NaN</td>\n",
       "      <td>NaN</td>\n",
       "    </tr>\n",
       "    <tr>\n",
       "      <th>75%</th>\n",
       "      <td>5.001904e+07</td>\n",
       "      <td>NaN</td>\n",
       "      <td>NaN</td>\n",
       "      <td>NaN</td>\n",
       "      <td>NaN</td>\n",
       "      <td>11229.000000</td>\n",
       "      <td>NaN</td>\n",
       "      <td>12.000000</td>\n",
       "      <td>NaN</td>\n",
       "      <td>NaN</td>\n",
       "    </tr>\n",
       "    <tr>\n",
       "      <th>max</th>\n",
       "      <td>5.006274e+07</td>\n",
       "      <td>NaN</td>\n",
       "      <td>NaN</td>\n",
       "      <td>NaN</td>\n",
       "      <td>NaN</td>\n",
       "      <td>11694.000000</td>\n",
       "      <td>NaN</td>\n",
       "      <td>54.000000</td>\n",
       "      <td>NaN</td>\n",
       "      <td>NaN</td>\n",
       "    </tr>\n",
       "  </tbody>\n",
       "</table>\n",
       "</div>"
      ],
      "text/plain": [
       "               CAMIS       DBA       BORO BUILDING    STREET       ZIPCODE  \\\n",
       "count   1.148000e+03      1148       1148     1148      1148   1148.000000   \n",
       "unique           NaN       827          5      967       586           NaN   \n",
       "top              NaN  DOMINO'S  MANHATTAN      201  BROADWAY           NaN   \n",
       "freq             NaN        84        330        5        50           NaN   \n",
       "mean    4.473970e+07       NaN        NaN      NaN       NaN  10740.940767   \n",
       "std     4.373390e+06       NaN        NaN      NaN       NaN    568.064156   \n",
       "min     4.036364e+07       NaN        NaN      NaN       NaN  10001.000000   \n",
       "25%     4.114623e+07       NaN        NaN      NaN       NaN  10036.000000   \n",
       "50%     4.161464e+07       NaN        NaN      NaN       NaN  11022.000000   \n",
       "75%     5.001904e+07       NaN        NaN      NaN       NaN  11229.000000   \n",
       "max     5.006274e+07       NaN        NaN      NaN       NaN  11694.000000   \n",
       "\n",
       "       CUISINE DESCRIPTION        SCORE GRADE  GRADE DATE  \n",
       "count                 1148  1148.000000  1148        1148  \n",
       "unique                   1          NaN     4         310  \n",
       "top                  Pizza          NaN     A  2017-02-22  \n",
       "freq                  1148          NaN  1043          11  \n",
       "mean                   NaN    10.141986   NaN         NaN  \n",
       "std                    NaN     5.869539   NaN         NaN  \n",
       "min                    NaN     0.000000   NaN         NaN  \n",
       "25%                    NaN     7.000000   NaN         NaN  \n",
       "50%                    NaN    10.000000   NaN         NaN  \n",
       "75%                    NaN    12.000000   NaN         NaN  \n",
       "max                    NaN    54.000000   NaN         NaN  "
      ]
     },
     "execution_count": 10,
     "metadata": {},
     "output_type": "execute_result"
    }
   ],
   "source": [
    "# Use include=\"all\" to get summary info for all columns\n",
    "pizza_df.describe(include=\"all\")"
   ]
  },
  {
   "cell_type": "markdown",
   "metadata": {},
   "source": [
    "You can also calculate specific statistics directly."
   ]
  },
  {
   "cell_type": "code",
   "execution_count": 9,
   "metadata": {},
   "outputs": [
    {
     "data": {
      "text/plain": [
       "CAMIS      4.473970e+07\n",
       "ZIPCODE    1.074094e+04\n",
       "SCORE      1.014199e+01\n",
       "dtype: float64"
      ]
     },
     "execution_count": 9,
     "metadata": {},
     "output_type": "execute_result"
    }
   ],
   "source": [
    "pizza_df.mean()"
   ]
  },
  {
   "cell_type": "code",
   "execution_count": 10,
   "metadata": {},
   "outputs": [
    {
     "data": {
      "text/plain": [
       "CAMIS      41614636.5\n",
       "ZIPCODE       11022.0\n",
       "SCORE            10.0\n",
       "dtype: float64"
      ]
     },
     "execution_count": 10,
     "metadata": {},
     "output_type": "execute_result"
    }
   ],
   "source": [
    "pizza_df.median()"
   ]
  },
  {
   "cell_type": "code",
   "execution_count": 15,
   "metadata": {},
   "outputs": [
    {
     "data": {
      "text/plain": [
       "CAMIS      4.373390e+06\n",
       "ZIPCODE    5.680642e+02\n",
       "SCORE      5.869539e+00\n",
       "dtype: float64"
      ]
     },
     "execution_count": 15,
     "metadata": {},
     "output_type": "execute_result"
    }
   ],
   "source": [
    "pizza_df.std()"
   ]
  }
 ],
 "metadata": {
  "kernelspec": {
   "display_name": "Python 2",
   "language": "python",
   "name": "python2"
  },
  "language_info": {
   "codemirror_mode": {
    "name": "ipython",
    "version": 2
   },
   "file_extension": ".py",
   "mimetype": "text/x-python",
   "name": "python",
   "nbconvert_exporter": "python",
   "pygments_lexer": "ipython2",
   "version": "2.7.11"
  }
 },
 "nbformat": 4,
 "nbformat_minor": 2
}
