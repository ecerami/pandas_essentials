{
 "cells": [
  {
   "cell_type": "markdown",
   "metadata": {},
   "source": [
    "# Pandas Essentials:  Data Wrangling\n",
    "\n",
    "This Pandas Notebook illustrates the essentials of \"wrangling\" your data.  We focus on three months of data from the [Bay Area Bike Share](http://www.bayareabikeshare.com/open-data) program.\n",
    "\n",
    "Topics include:\n",
    "\n",
    "* Transforming Datatypes\n",
    "* Dropping Columns\n",
    "* Renaming Columns\n",
    "* Setting Indexes\n",
    "* Dealing with NA Values"
   ]
  },
  {
   "cell_type": "markdown",
   "metadata": {},
   "source": [
    "# Loading the Bike Share Data Sets"
   ]
  },
  {
   "cell_type": "code",
   "execution_count": 16,
   "metadata": {
    "collapsed": true
   },
   "outputs": [],
   "source": [
    "import pandas as pd\n",
    "\n",
    "# Read in the Station Data\n",
    "stations_df = pd.read_csv(\"data/babs_station_data.csv\")\n",
    "\n",
    "# Read in the Bike Share Weather Data\n",
    "weather_df = pd.read_csv(\"data/babs_weather_april_thru_june_2016.csv\")\n",
    "\n",
    "# Read in the trips data\n",
    "trips_df = pd.read_csv(\"data/babs_trips_april_thru_june_2016.csv\")\n",
    "\n",
    "# Set max display columns and rows (for more compact view)\n",
    "pd.options.display.max_columns = 10\n",
    "pd.options.display.max_rows = 15"
   ]
  },
  {
   "cell_type": "markdown",
   "metadata": {},
   "source": [
    "# Transforming Data Types"
   ]
  },
  {
   "cell_type": "code",
   "execution_count": 17,
   "metadata": {},
   "outputs": [
    {
     "name": "stdout",
     "output_type": "stream",
     "text": [
      "<class 'pandas.core.frame.DataFrame'>\n",
      "RangeIndex: 455 entries, 0 to 454\n",
      "Data columns (total 24 columns):\n",
      "PDT                           455 non-null object\n",
      "Max TemperatureF              455 non-null int64\n",
      "Mean TemperatureF             455 non-null int64\n",
      "Min TemperatureF              455 non-null int64\n",
      "Max Dew PointF                455 non-null int64\n",
      "MeanDew PointF                455 non-null int64\n",
      "Min DewpointF                 455 non-null int64\n",
      "Max Humidity                  455 non-null int64\n",
      " Mean Humidity                455 non-null int64\n",
      " Min Humidity                 455 non-null int64\n",
      " Max Sea Level PressureIn     455 non-null float64\n",
      " Mean Sea Level PressureIn    455 non-null float64\n",
      " Min Sea Level PressureIn     455 non-null float64\n",
      " Max VisibilityMiles          454 non-null float64\n",
      " Mean VisibilityMiles         454 non-null float64\n",
      " Min VisibilityMiles          454 non-null float64\n",
      " Max Wind SpeedMPH            455 non-null int64\n",
      " Mean Wind SpeedMPH           455 non-null int64\n",
      " Max Gust SpeedMPH            348 non-null float64\n",
      "PrecipitationIn               455 non-null object\n",
      " CloudCover                   455 non-null int64\n",
      " Events                       45 non-null object\n",
      " WindDirDegrees               455 non-null int64\n",
      "ZIP                           455 non-null int64\n",
      "dtypes: float64(7), int64(14), object(3)\n",
      "memory usage: 85.4+ KB\n"
     ]
    }
   ],
   "source": [
    "# Before any transformation, these are our weather data types\n",
    "weather_df.info()"
   ]
  },
  {
   "cell_type": "code",
   "execution_count": 18,
   "metadata": {},
   "outputs": [
    {
     "name": "stdout",
     "output_type": "stream",
     "text": [
      "<class 'pandas.core.frame.DataFrame'>\n",
      "RangeIndex: 455 entries, 0 to 454\n",
      "Data columns (total 24 columns):\n",
      "PDT                           455 non-null datetime64[ns]\n",
      "Max TemperatureF              455 non-null int64\n",
      "Mean TemperatureF             455 non-null int64\n",
      "Min TemperatureF              455 non-null int64\n",
      "Max Dew PointF                455 non-null int64\n",
      "MeanDew PointF                455 non-null int64\n",
      "Min DewpointF                 455 non-null int64\n",
      "Max Humidity                  455 non-null int64\n",
      " Mean Humidity                455 non-null int64\n",
      " Min Humidity                 455 non-null int64\n",
      " Max Sea Level PressureIn     455 non-null float64\n",
      " Mean Sea Level PressureIn    455 non-null float64\n",
      " Min Sea Level PressureIn     455 non-null float64\n",
      " Max VisibilityMiles          454 non-null float64\n",
      " Mean VisibilityMiles         454 non-null float64\n",
      " Min VisibilityMiles          454 non-null float64\n",
      " Max Wind SpeedMPH            455 non-null int64\n",
      " Mean Wind SpeedMPH           455 non-null int64\n",
      " Max Gust SpeedMPH            348 non-null float64\n",
      "PrecipitationIn               455 non-null object\n",
      " CloudCover                   455 non-null int64\n",
      " Events                       45 non-null object\n",
      " WindDirDegrees               455 non-null int64\n",
      "ZIP                           455 non-null object\n",
      "dtypes: datetime64[ns](1), float64(7), int64(13), object(3)\n",
      "memory usage: 85.4+ KB\n"
     ]
    }
   ],
   "source": [
    "# Let's try transforming some columns\n",
    "weather_df[\"PDT\"] = pd.to_datetime(weather_df[\"PDT\"])\n",
    "weather_df[\"ZIP\"] = weather_df[\"ZIP\"].astype(int).astype(str)\n",
    "weather_df.info()"
   ]
  },
  {
   "cell_type": "code",
   "execution_count": 19,
   "metadata": {},
   "outputs": [
    {
     "name": "stdout",
     "output_type": "stream",
     "text": [
      "<class 'pandas.core.frame.DataFrame'>\n",
      "RangeIndex: 83537 entries, 0 to 83536\n",
      "Data columns (total 11 columns):\n",
      "Trip ID            83537 non-null int64\n",
      "Duration           83537 non-null int64\n",
      "Start Date         83537 non-null object\n",
      "Start Station      83537 non-null object\n",
      "Start Terminal     83537 non-null int64\n",
      "End Date           83537 non-null object\n",
      "End Station        83537 non-null object\n",
      "End Terminal       83537 non-null int64\n",
      "Bike #             83537 non-null int64\n",
      "Subscriber Type    83537 non-null object\n",
      "Zip Code           83509 non-null object\n",
      "dtypes: int64(5), object(6)\n",
      "memory usage: 7.0+ MB\n"
     ]
    }
   ],
   "source": [
    "# Before any transformation, these are our trips data types\n",
    "trips_df.info()"
   ]
  },
  {
   "cell_type": "code",
   "execution_count": 20,
   "metadata": {
    "collapsed": true
   },
   "outputs": [],
   "source": [
    "# Let's try changing column data types\n",
    "trips_df[\"Start Date\"] = pd.to_datetime(trips_df[\"Start Date\"])\n",
    "trips_df[\"End Date\"] = pd.to_datetime(trips_df[\"End Date\"])"
   ]
  },
  {
   "cell_type": "code",
   "execution_count": 21,
   "metadata": {},
   "outputs": [
    {
     "data": {
      "text/plain": [
       "pandas.tseries.common.DatetimeProperties"
      ]
     },
     "execution_count": 21,
     "metadata": {},
     "output_type": "execute_result"
    }
   ],
   "source": [
    "# We can use the Series dt attribute to extract specific data/time elements\n",
    "# http://pandas.pydata.org/pandas-docs/version/0.15.2/api.html#series\n",
    "type(trips_df[\"Start Date\"].dt)"
   ]
  },
  {
   "cell_type": "code",
   "execution_count": 22,
   "metadata": {
    "collapsed": true
   },
   "outputs": [],
   "source": [
    "# For example, we can extract just the date, just the month or just the day of week\n",
    "trips_df[\"Start Date Only\"] = trips_df[\"Start Date\"].dt.date\n",
    "trips_df[\"Start Date Month\"] = trips_df[\"Start Date\"].dt.month\n",
    "trips_df[\"Start Date Day of Week\"] = trips_df[\"Start Date\"].dt.dayofweek"
   ]
  },
  {
   "cell_type": "markdown",
   "metadata": {},
   "source": [
    "# Dropping Columns"
   ]
  },
  {
   "cell_type": "code",
   "execution_count": 23,
   "metadata": {},
   "outputs": [
    {
     "data": {
      "text/plain": [
       "Index([u'station_id', u'name', u'lat', u'long', u'dockcount', u'landmark',\n",
       "       u'installation'],\n",
       "      dtype='object')"
      ]
     },
     "execution_count": 23,
     "metadata": {},
     "output_type": "execute_result"
    }
   ],
   "source": [
    "# Original set of columns\n",
    "stations_df.columns"
   ]
  },
  {
   "cell_type": "code",
   "execution_count": 24,
   "metadata": {},
   "outputs": [
    {
     "data": {
      "text/plain": [
       "Index([u'station_id', u'name', u'dockcount', u'landmark'], dtype='object')"
      ]
     },
     "execution_count": 24,
     "metadata": {},
     "output_type": "execute_result"
    }
   ],
   "source": [
    "# Drop a few columns which are not essential to our analysis\n",
    "stations_df.drop(labels=[\"installation\"], axis=\"columns\", inplace=True)\n",
    "stations_df.drop(labels=[\"lat\", \"long\"], axis=\"columns\", inplace=True)\n",
    "stations_df.columns"
   ]
  },
  {
   "cell_type": "markdown",
   "metadata": {
    "collapsed": true
   },
   "source": [
    "# Renaming columns"
   ]
  },
  {
   "cell_type": "code",
   "execution_count": 25,
   "metadata": {},
   "outputs": [
    {
     "data": {
      "text/plain": [
       "Index([u'Trip ID', u'Duration', u'Start Date', u'Start Station',\n",
       "       u'Start Terminal', u'End Date', u'End Station', u'End Terminal',\n",
       "       u'Bike #', u'Subscriber Type', u'Zip Code', u'Start Date Only',\n",
       "       u'Start Date Month', u'Start Date Day of Week'],\n",
       "      dtype='object')"
      ]
     },
     "execution_count": 25,
     "metadata": {},
     "output_type": "execute_result"
    }
   ],
   "source": [
    "# Original Set of columns\n",
    "trips_df.columns"
   ]
  },
  {
   "cell_type": "code",
   "execution_count": 26,
   "metadata": {},
   "outputs": [
    {
     "name": "stdout",
     "output_type": "stream",
     "text": [
      "<class 'pandas.core.frame.DataFrame'>\n",
      "RangeIndex: 83537 entries, 0 to 83536\n",
      "Data columns (total 14 columns):\n",
      "Trip ID                   83537 non-null int64\n",
      "Duration Seconds          83537 non-null int64\n",
      "Start Datetime            83537 non-null datetime64[ns]\n",
      "Start Station             83537 non-null object\n",
      "Start Terminal            83537 non-null int64\n",
      "End Datetime              83537 non-null datetime64[ns]\n",
      "End Station               83537 non-null object\n",
      "End Terminal              83537 non-null int64\n",
      "Bike #                    83537 non-null int64\n",
      "Subscriber Type           83537 non-null object\n",
      "Zip Code                  83509 non-null object\n",
      "Start Date Only           83537 non-null object\n",
      "Start Date Month          83537 non-null int64\n",
      "Start Date Day of Week    83537 non-null int64\n",
      "dtypes: datetime64[ns](2), int64(7), object(5)\n",
      "memory usage: 8.9+ MB\n"
     ]
    }
   ],
   "source": [
    "# Rename a few columns to make them more explicit\n",
    "trips_df.rename(columns = {'Duration':'Duration Seconds'}, inplace=True)\n",
    "trips_df.rename(columns = {'Start Date':'Start Datetime'}, inplace=True)\n",
    "trips_df.rename(columns = {'End Date':'End Datetime'}, inplace=True)\n",
    "trips_df.info()"
   ]
  },
  {
   "cell_type": "code",
   "execution_count": 27,
   "metadata": {},
   "outputs": [
    {
     "data": {
      "text/plain": [
       "Index([u'TRIP_ID', u'DURATION_SECONDS', u'START_DATETIME', u'START_STATION',\n",
       "       u'START_TERMINAL', u'END_DATETIME', u'END_STATION', u'END_TERMINAL',\n",
       "       u'BIKE_#', u'SUBSCRIBER_TYPE', u'ZIP_CODE', u'START_DATE_ONLY',\n",
       "       u'START_DATE_MONTH', u'START_DATE_DAY_OF_WEEK'],\n",
       "      dtype='object')"
      ]
     },
     "execution_count": 27,
     "metadata": {},
     "output_type": "execute_result"
    }
   ],
   "source": [
    "# You can also normalize all columns\n",
    "# In this case, replace all spaces with underscores and make upper case\n",
    "trips_df.columns = trips_df.columns.str.replace(\" \", \"_\")\n",
    "trips_df.columns = trips_df.columns.str.upper()\n",
    "trips_df.columns"
   ]
  },
  {
   "cell_type": "markdown",
   "metadata": {},
   "source": [
    "# Setting Indexes"
   ]
  },
  {
   "cell_type": "code",
   "execution_count": 28,
   "metadata": {},
   "outputs": [
    {
     "data": {
      "text/html": [
       "<div>\n",
       "<table border=\"1\" class=\"dataframe\">\n",
       "  <thead>\n",
       "    <tr style=\"text-align: right;\">\n",
       "      <th></th>\n",
       "      <th>DURATION_SECONDS</th>\n",
       "      <th>START_DATETIME</th>\n",
       "      <th>START_STATION</th>\n",
       "      <th>START_TERMINAL</th>\n",
       "      <th>END_DATETIME</th>\n",
       "      <th>...</th>\n",
       "      <th>SUBSCRIBER_TYPE</th>\n",
       "      <th>ZIP_CODE</th>\n",
       "      <th>START_DATE_ONLY</th>\n",
       "      <th>START_DATE_MONTH</th>\n",
       "      <th>START_DATE_DAY_OF_WEEK</th>\n",
       "    </tr>\n",
       "    <tr>\n",
       "      <th>TRIP_ID</th>\n",
       "      <th></th>\n",
       "      <th></th>\n",
       "      <th></th>\n",
       "      <th></th>\n",
       "      <th></th>\n",
       "      <th></th>\n",
       "      <th></th>\n",
       "      <th></th>\n",
       "      <th></th>\n",
       "      <th></th>\n",
       "      <th></th>\n",
       "    </tr>\n",
       "  </thead>\n",
       "  <tbody>\n",
       "    <tr>\n",
       "      <th>1145294</th>\n",
       "      <td>991</td>\n",
       "      <td>2016-04-01 00:30:00</td>\n",
       "      <td>Embarcadero at Sansome</td>\n",
       "      <td>60</td>\n",
       "      <td>2016-04-01 00:47:00</td>\n",
       "      <td>...</td>\n",
       "      <td>Subscriber</td>\n",
       "      <td>94109</td>\n",
       "      <td>2016-04-01</td>\n",
       "      <td>4</td>\n",
       "      <td>4</td>\n",
       "    </tr>\n",
       "    <tr>\n",
       "      <th>1145295</th>\n",
       "      <td>1164</td>\n",
       "      <td>2016-04-01 04:49:00</td>\n",
       "      <td>Temporary Transbay Terminal (Howard at Beale)</td>\n",
       "      <td>55</td>\n",
       "      <td>2016-04-01 05:08:00</td>\n",
       "      <td>...</td>\n",
       "      <td>Subscriber</td>\n",
       "      <td>95113</td>\n",
       "      <td>2016-04-01</td>\n",
       "      <td>4</td>\n",
       "      <td>4</td>\n",
       "    </tr>\n",
       "    <tr>\n",
       "      <th>1145296</th>\n",
       "      <td>729</td>\n",
       "      <td>2016-04-01 05:00:00</td>\n",
       "      <td>Market at 10th</td>\n",
       "      <td>67</td>\n",
       "      <td>2016-04-01 05:13:00</td>\n",
       "      <td>...</td>\n",
       "      <td>Subscriber</td>\n",
       "      <td>94102</td>\n",
       "      <td>2016-04-01</td>\n",
       "      <td>4</td>\n",
       "      <td>4</td>\n",
       "    </tr>\n",
       "    <tr>\n",
       "      <th>1145297</th>\n",
       "      <td>367</td>\n",
       "      <td>2016-04-01 05:15:00</td>\n",
       "      <td>Steuart at Market</td>\n",
       "      <td>74</td>\n",
       "      <td>2016-04-01 05:21:00</td>\n",
       "      <td>...</td>\n",
       "      <td>Subscriber</td>\n",
       "      <td>94015</td>\n",
       "      <td>2016-04-01</td>\n",
       "      <td>4</td>\n",
       "      <td>4</td>\n",
       "    </tr>\n",
       "    <tr>\n",
       "      <th>1145298</th>\n",
       "      <td>366</td>\n",
       "      <td>2016-04-01 05:17:00</td>\n",
       "      <td>Market at 10th</td>\n",
       "      <td>67</td>\n",
       "      <td>2016-04-01 05:23:00</td>\n",
       "      <td>...</td>\n",
       "      <td>Subscriber</td>\n",
       "      <td>94102</td>\n",
       "      <td>2016-04-01</td>\n",
       "      <td>4</td>\n",
       "      <td>4</td>\n",
       "    </tr>\n",
       "  </tbody>\n",
       "</table>\n",
       "<p>5 rows × 13 columns</p>\n",
       "</div>"
      ],
      "text/plain": [
       "         DURATION_SECONDS      START_DATETIME  \\\n",
       "TRIP_ID                                         \n",
       "1145294               991 2016-04-01 00:30:00   \n",
       "1145295              1164 2016-04-01 04:49:00   \n",
       "1145296               729 2016-04-01 05:00:00   \n",
       "1145297               367 2016-04-01 05:15:00   \n",
       "1145298               366 2016-04-01 05:17:00   \n",
       "\n",
       "                                         START_STATION  START_TERMINAL  \\\n",
       "TRIP_ID                                                                  \n",
       "1145294                         Embarcadero at Sansome              60   \n",
       "1145295  Temporary Transbay Terminal (Howard at Beale)              55   \n",
       "1145296                                 Market at 10th              67   \n",
       "1145297                              Steuart at Market              74   \n",
       "1145298                                 Market at 10th              67   \n",
       "\n",
       "               END_DATETIME          ...           SUBSCRIBER_TYPE  ZIP_CODE  \\\n",
       "TRIP_ID                              ...                                       \n",
       "1145294 2016-04-01 00:47:00          ...                Subscriber     94109   \n",
       "1145295 2016-04-01 05:08:00          ...                Subscriber     95113   \n",
       "1145296 2016-04-01 05:13:00          ...                Subscriber     94102   \n",
       "1145297 2016-04-01 05:21:00          ...                Subscriber     94015   \n",
       "1145298 2016-04-01 05:23:00          ...                Subscriber     94102   \n",
       "\n",
       "         START_DATE_ONLY START_DATE_MONTH START_DATE_DAY_OF_WEEK  \n",
       "TRIP_ID                                                           \n",
       "1145294       2016-04-01                4                      4  \n",
       "1145295       2016-04-01                4                      4  \n",
       "1145296       2016-04-01                4                      4  \n",
       "1145297       2016-04-01                4                      4  \n",
       "1145298       2016-04-01                4                      4  \n",
       "\n",
       "[5 rows x 13 columns]"
      ]
     },
     "execution_count": 28,
     "metadata": {},
     "output_type": "execute_result"
    }
   ],
   "source": [
    "# You can set a specific column as an index\n",
    "# For example, we can set Trip ID as the index\n",
    "trips_df.set_index(keys = \"TRIP_ID\", drop=True, inplace=True)\n",
    "trips_df.head()"
   ]
  },
  {
   "cell_type": "markdown",
   "metadata": {},
   "source": [
    "# Dealing with NA Values"
   ]
  },
  {
   "cell_type": "code",
   "execution_count": 32,
   "metadata": {},
   "outputs": [
    {
     "data": {
      "text/plain": [
       "DURATION_SECONDS           0\n",
       "START_DATETIME             0\n",
       "START_STATION              0\n",
       "START_TERMINAL             0\n",
       "END_DATETIME               0\n",
       "END_STATION                0\n",
       "END_TERMINAL               0\n",
       "BIKE_#                     0\n",
       "SUBSCRIBER_TYPE            0\n",
       "ZIP_CODE                  28\n",
       "START_DATE_ONLY            0\n",
       "START_DATE_MONTH           0\n",
       "START_DATE_DAY_OF_WEEK     0\n",
       "dtype: int64"
      ]
     },
     "execution_count": 32,
     "metadata": {},
     "output_type": "execute_result"
    }
   ],
   "source": [
    "# A handy trick to determine number of NAs by columns\n",
    "trips_df.isnull().sum()"
   ]
  },
  {
   "cell_type": "code",
   "execution_count": 34,
   "metadata": {},
   "outputs": [],
   "source": [
    "# Drop Rows with Any NA values\n",
    "trips_df_subset = trips_df.dropna(axis='index', how='any')"
   ]
  },
  {
   "cell_type": "code",
   "execution_count": 38,
   "metadata": {},
   "outputs": [
    {
     "data": {
      "text/plain": [
       "28"
      ]
     },
     "execution_count": 38,
     "metadata": {},
     "output_type": "execute_result"
    }
   ],
   "source": [
    "len(trips_df) - len(trips_df_subset)"
   ]
  },
  {
   "cell_type": "code",
   "execution_count": 40,
   "metadata": {},
   "outputs": [
    {
     "data": {
      "text/plain": [
       "DURATION_SECONDS          0\n",
       "START_DATETIME            0\n",
       "START_STATION             0\n",
       "START_TERMINAL            0\n",
       "END_DATETIME              0\n",
       "END_STATION               0\n",
       "END_TERMINAL              0\n",
       "BIKE_#                    0\n",
       "SUBSCRIBER_TYPE           0\n",
       "ZIP_CODE                  0\n",
       "START_DATE_ONLY           0\n",
       "START_DATE_MONTH          0\n",
       "START_DATE_DAY_OF_WEEK    0\n",
       "dtype: int64"
      ]
     },
     "execution_count": 40,
     "metadata": {},
     "output_type": "execute_result"
    }
   ],
   "source": [
    "# Change NA values to specified String\n",
    "trips_df_fixed = trips_df.fillna(\"Not Specified\", axis=\"index\")\n",
    "trips_df_fixed.isnull().sum()"
   ]
  }
 ],
 "metadata": {
  "kernelspec": {
   "display_name": "Python 2",
   "language": "python",
   "name": "python2"
  },
  "language_info": {
   "codemirror_mode": {
    "name": "ipython",
    "version": 2
   },
   "file_extension": ".py",
   "mimetype": "text/x-python",
   "name": "python",
   "nbconvert_exporter": "python",
   "pygments_lexer": "ipython2",
   "version": "2.7.11"
  }
 },
 "nbformat": 4,
 "nbformat_minor": 2
}
