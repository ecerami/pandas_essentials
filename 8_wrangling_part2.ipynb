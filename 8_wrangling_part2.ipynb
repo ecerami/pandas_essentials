{
 "cells": [
  {
   "cell_type": "markdown",
   "metadata": {},
   "source": [
    "# Pandas Essentials:  Data Wrangling\n",
    "\n",
    "This Pandas Notebook illustrates the essentials of \"wrangling\" your data.  Concepts are illustrated with the [New York City pizza restaurant inspection data](https://github.com/ecerami/pydata-essentials/blob/master/pandas/data/NYC_Pizza_2017.csv).\n",
    "\n",
    "Topics include:\n",
    "\n",
    "* Transforming Datatypes of Columns\n",
    "* Dropping Columns\n",
    "* Renaming Columns\n",
    "* Merging Data Frames"
   ]
  },
  {
   "cell_type": "code",
   "execution_count": 3,
   "metadata": {
    "collapsed": true
   },
   "outputs": [],
   "source": [
    "import pandas as pd\n",
    "\n",
    "# Read in the Full Pizza Data Set\n",
    "pizza_df = pd.read_csv(\"data/NYC_Pizza_2017_Full.csv\")\n",
    "\n",
    "# Set max display columns and rows (for more compact view)\n",
    "pd.options.display.max_columns = 6\n",
    "pd.options.display.max_rows = 6"
   ]
  },
  {
   "cell_type": "code",
   "execution_count": 4,
   "metadata": {},
   "outputs": [
    {
     "data": {
      "text/html": [
       "<div>\n",
       "<table border=\"1\" class=\"dataframe\">\n",
       "  <thead>\n",
       "    <tr style=\"text-align: right;\">\n",
       "      <th></th>\n",
       "      <th>CAMIS</th>\n",
       "      <th>DBA</th>\n",
       "      <th>BORO</th>\n",
       "      <th>...</th>\n",
       "      <th>GRADE DATE</th>\n",
       "      <th>RECORD DATE</th>\n",
       "      <th>INSPECTION TYPE</th>\n",
       "    </tr>\n",
       "  </thead>\n",
       "  <tbody>\n",
       "    <tr>\n",
       "      <th>13962</th>\n",
       "      <td>40363644</td>\n",
       "      <td>DOMINO'S</td>\n",
       "      <td>MANHATTAN</td>\n",
       "      <td>...</td>\n",
       "      <td>NaN</td>\n",
       "      <td>04/22/2017</td>\n",
       "      <td>Cycle Inspection / Initial Inspection</td>\n",
       "    </tr>\n",
       "    <tr>\n",
       "      <th>10335</th>\n",
       "      <td>40363644</td>\n",
       "      <td>DOMINO'S</td>\n",
       "      <td>MANHATTAN</td>\n",
       "      <td>...</td>\n",
       "      <td>NaN</td>\n",
       "      <td>04/22/2017</td>\n",
       "      <td>Cycle Inspection / Initial Inspection</td>\n",
       "    </tr>\n",
       "    <tr>\n",
       "      <th>1219</th>\n",
       "      <td>40363644</td>\n",
       "      <td>DOMINO'S</td>\n",
       "      <td>MANHATTAN</td>\n",
       "      <td>...</td>\n",
       "      <td>NaN</td>\n",
       "      <td>04/22/2017</td>\n",
       "      <td>Cycle Inspection / Initial Inspection</td>\n",
       "    </tr>\n",
       "    <tr>\n",
       "      <th>19315</th>\n",
       "      <td>40363644</td>\n",
       "      <td>DOMINO'S</td>\n",
       "      <td>MANHATTAN</td>\n",
       "      <td>...</td>\n",
       "      <td>07/16/2015</td>\n",
       "      <td>04/22/2017</td>\n",
       "      <td>Cycle Inspection / Initial Inspection</td>\n",
       "    </tr>\n",
       "    <tr>\n",
       "      <th>8858</th>\n",
       "      <td>40363644</td>\n",
       "      <td>DOMINO'S</td>\n",
       "      <td>MANHATTAN</td>\n",
       "      <td>...</td>\n",
       "      <td>03/30/2017</td>\n",
       "      <td>04/22/2017</td>\n",
       "      <td>Cycle Inspection / Re-inspection</td>\n",
       "    </tr>\n",
       "  </tbody>\n",
       "</table>\n",
       "<p>5 rows × 16 columns</p>\n",
       "</div>"
      ],
      "text/plain": [
       "          CAMIS       DBA       BORO                  ...                    \\\n",
       "13962  40363644  DOMINO'S  MANHATTAN                  ...                     \n",
       "10335  40363644  DOMINO'S  MANHATTAN                  ...                     \n",
       "1219   40363644  DOMINO'S  MANHATTAN                  ...                     \n",
       "19315  40363644  DOMINO'S  MANHATTAN                  ...                     \n",
       "8858   40363644  DOMINO'S  MANHATTAN                  ...                     \n",
       "\n",
       "       GRADE DATE RECORD DATE                        INSPECTION TYPE  \n",
       "13962         NaN  04/22/2017  Cycle Inspection / Initial Inspection  \n",
       "10335         NaN  04/22/2017  Cycle Inspection / Initial Inspection  \n",
       "1219          NaN  04/22/2017  Cycle Inspection / Initial Inspection  \n",
       "19315  07/16/2015  04/22/2017  Cycle Inspection / Initial Inspection  \n",
       "8858   03/30/2017  04/22/2017       Cycle Inspection / Re-inspection  \n",
       "\n",
       "[5 rows x 16 columns]"
      ]
     },
     "execution_count": 4,
     "metadata": {},
     "output_type": "execute_result"
    }
   ],
   "source": [
    "pizza_df.sort_values(by=\"CAMIS\", inplace=True)\n",
    "pizza_df.head()"
   ]
  },
  {
   "cell_type": "markdown",
   "metadata": {},
   "source": [
    "# Transforming Datatypes of Columns"
   ]
  },
  {
   "cell_type": "code",
   "execution_count": 5,
   "metadata": {},
   "outputs": [
    {
     "name": "stdout",
     "output_type": "stream",
     "text": [
      "<class 'pandas.core.frame.DataFrame'>\n",
      "Int64Index: 19818 entries, 13962 to 8242\n",
      "Data columns (total 16 columns):\n",
      "CAMIS                  19818 non-null int64\n",
      "DBA                    19818 non-null object\n",
      "BORO                   19818 non-null object\n",
      "BUILDING               19818 non-null object\n",
      "STREET                 19818 non-null object\n",
      "ZIPCODE                19818 non-null float64\n",
      "PHONE                  19818 non-null int64\n",
      "CUISINE DESCRIPTION    19818 non-null object\n",
      "INSPECTION DATE        19818 non-null object\n",
      "ACTION                 19818 non-null object\n",
      "VIOLATION CODE         19559 non-null object\n",
      "SCORE                  18626 non-null float64\n",
      "GRADE                  9631 non-null object\n",
      "GRADE DATE             9575 non-null object\n",
      "RECORD DATE            19818 non-null object\n",
      "INSPECTION TYPE        19818 non-null object\n",
      "dtypes: float64(2), int64(2), object(12)\n",
      "memory usage: 2.6+ MB\n"
     ]
    }
   ],
   "source": [
    "# Before any transformation, these are our data types\n",
    "pizza_df.info()"
   ]
  },
  {
   "cell_type": "code",
   "execution_count": 6,
   "metadata": {},
   "outputs": [
    {
     "name": "stdout",
     "output_type": "stream",
     "text": [
      "<class 'pandas.core.frame.DataFrame'>\n",
      "Int64Index: 19818 entries, 13962 to 8242\n",
      "Data columns (total 16 columns):\n",
      "CAMIS                  19818 non-null object\n",
      "DBA                    19818 non-null object\n",
      "BORO                   19818 non-null object\n",
      "BUILDING               19818 non-null object\n",
      "STREET                 19818 non-null object\n",
      "ZIPCODE                19818 non-null object\n",
      "PHONE                  19818 non-null int64\n",
      "CUISINE DESCRIPTION    19818 non-null object\n",
      "INSPECTION DATE        19818 non-null object\n",
      "ACTION                 19818 non-null object\n",
      "VIOLATION CODE         19559 non-null object\n",
      "SCORE                  18626 non-null float64\n",
      "GRADE                  9631 non-null object\n",
      "GRADE DATE             9575 non-null datetime64[ns]\n",
      "RECORD DATE            19818 non-null datetime64[ns]\n",
      "INSPECTION TYPE        19818 non-null object\n",
      "dtypes: datetime64[ns](2), float64(1), int64(1), object(12)\n",
      "memory usage: 2.6+ MB\n"
     ]
    }
   ],
   "source": [
    "# Transform columns to strings and dates to datetime objects\n",
    "pizza_df[\"CAMIS\"] = pizza_df.CAMIS.astype(str)\n",
    "pizza_df[\"ZIPCODE\"] = pizza_df.ZIPCODE.astype(int).astype(str)\n",
    "pizza_df[\"GRADE DATE\"] = pd.to_datetime(pizza_df[\"GRADE DATE\"])\n",
    "pizza_df[\"RECORD DATE\"] = pd.to_datetime(pizza_df[\"RECORD DATE\"])\n",
    "pizza_df.info()"
   ]
  },
  {
   "cell_type": "markdown",
   "metadata": {},
   "source": [
    "# Dropping Columns"
   ]
  },
  {
   "cell_type": "code",
   "execution_count": 7,
   "metadata": {},
   "outputs": [
    {
     "name": "stdout",
     "output_type": "stream",
     "text": [
      "<class 'pandas.core.frame.DataFrame'>\n",
      "Int64Index: 19818 entries, 13962 to 8242\n",
      "Data columns (total 12 columns):\n",
      "CAMIS              19818 non-null object\n",
      "DBA                19818 non-null object\n",
      "BORO               19818 non-null object\n",
      "ZIPCODE            19818 non-null object\n",
      "INSPECTION DATE    19818 non-null object\n",
      "ACTION             19818 non-null object\n",
      "VIOLATION CODE     19559 non-null object\n",
      "SCORE              18626 non-null float64\n",
      "GRADE              9631 non-null object\n",
      "GRADE DATE         9575 non-null datetime64[ns]\n",
      "RECORD DATE        19818 non-null datetime64[ns]\n",
      "INSPECTION TYPE    19818 non-null object\n",
      "dtypes: datetime64[ns](2), float64(1), object(9)\n",
      "memory usage: 2.0+ MB\n"
     ]
    }
   ],
   "source": [
    "# Drop a few columns which are not essential to our analysis\n",
    "pizza_df.drop(labels=\"CUISINE DESCRIPTION\", axis=\"columns\", inplace=True)\n",
    "pizza_df.drop(labels=\"PHONE\", axis=\"columns\", inplace=True)\n",
    "pizza_df.drop(labels=[\"BUILDING\", \"STREET\"], axis=\"columns\", inplace=True)\n",
    "pizza_df.info()\n",
    "\n",
    "# Note:  you can also drop columns by column index:  \n",
    "# pizza_df.drop(pizza_df.columns[[0, 1]], axis=\"columns\")\n",
    "# You can also drop rows via the same mechanism, except specify axis=\"index\""
   ]
  },
  {
   "cell_type": "markdown",
   "metadata": {
    "collapsed": true
   },
   "source": [
    "# Renaming columns"
   ]
  },
  {
   "cell_type": "code",
   "execution_count": 8,
   "metadata": {},
   "outputs": [
    {
     "name": "stdout",
     "output_type": "stream",
     "text": [
      "<class 'pandas.core.frame.DataFrame'>\n",
      "Int64Index: 19818 entries, 13962 to 8242\n",
      "Data columns (total 12 columns):\n",
      "ID                 19818 non-null object\n",
      "NAME               19818 non-null object\n",
      "BORO               19818 non-null object\n",
      "ZIPCODE            19818 non-null object\n",
      "INSPECTION DATE    19818 non-null object\n",
      "ACTION             19818 non-null object\n",
      "VIOLATION CODE     19559 non-null object\n",
      "SCORE              18626 non-null float64\n",
      "GRADE              9631 non-null object\n",
      "GRADE DATE         9575 non-null datetime64[ns]\n",
      "RECORD DATE        19818 non-null datetime64[ns]\n",
      "INSPECTION TYPE    19818 non-null object\n",
      "dtypes: datetime64[ns](2), float64(1), object(9)\n",
      "memory usage: 2.0+ MB\n"
     ]
    }
   ],
   "source": [
    "# Rename a few columns to make them more understandable\n",
    "pizza_df.rename(columns = {'CAMIS':'ID'}, inplace=True)\n",
    "pizza_df.rename(columns = {'DBA':'NAME'}, inplace=True)\n",
    "pizza_df.info()"
   ]
  },
  {
   "cell_type": "markdown",
   "metadata": {
    "collapsed": true
   },
   "source": [
    "# Merging Data Frames"
   ]
  },
  {
   "cell_type": "code",
   "execution_count": 9,
   "metadata": {},
   "outputs": [
    {
     "data": {
      "text/html": [
       "<div>\n",
       "<table border=\"1\" class=\"dataframe\">\n",
       "  <thead>\n",
       "    <tr style=\"text-align: right;\">\n",
       "      <th></th>\n",
       "      <th>VIOLATION CODE</th>\n",
       "      <th>VIOLATION DESCRIPTION</th>\n",
       "      <th>CRITICAL FLAG</th>\n",
       "    </tr>\n",
       "  </thead>\n",
       "  <tbody>\n",
       "    <tr>\n",
       "      <th>0</th>\n",
       "      <td>02B</td>\n",
       "      <td>Hot food item not held at or above 140 F.</td>\n",
       "      <td>Critical</td>\n",
       "    </tr>\n",
       "    <tr>\n",
       "      <th>1</th>\n",
       "      <td>06D</td>\n",
       "      <td>Food contact surface not properly washed, rins...</td>\n",
       "      <td>Critical</td>\n",
       "    </tr>\n",
       "    <tr>\n",
       "      <th>2</th>\n",
       "      <td>02G</td>\n",
       "      <td>Cold food item held above 41 F (smoked fish an...</td>\n",
       "      <td>Critical</td>\n",
       "    </tr>\n",
       "    <tr>\n",
       "      <th>3</th>\n",
       "      <td>10B</td>\n",
       "      <td>Plumbing not properly installed or maintained;...</td>\n",
       "      <td>Not Critical</td>\n",
       "    </tr>\n",
       "    <tr>\n",
       "      <th>4</th>\n",
       "      <td>15L</td>\n",
       "      <td>Smoke free workplace smoking policy inadequate...</td>\n",
       "      <td>Not Critical</td>\n",
       "    </tr>\n",
       "  </tbody>\n",
       "</table>\n",
       "</div>"
      ],
      "text/plain": [
       "  VIOLATION CODE                              VIOLATION DESCRIPTION  \\\n",
       "0            02B          Hot food item not held at or above 140 F.   \n",
       "1            06D  Food contact surface not properly washed, rins...   \n",
       "2            02G  Cold food item held above 41 F (smoked fish an...   \n",
       "3            10B  Plumbing not properly installed or maintained;...   \n",
       "4            15L  Smoke free workplace smoking policy inadequate...   \n",
       "\n",
       "  CRITICAL FLAG  \n",
       "0      Critical  \n",
       "1      Critical  \n",
       "2      Critical  \n",
       "3  Not Critical  \n",
       "4  Not Critical  "
      ]
     },
     "execution_count": 9,
     "metadata": {},
     "output_type": "execute_result"
    }
   ],
   "source": [
    "# Read in Violation Code Descriptions\n",
    "violation_codes = pd.read_csv(\"data/violation_codes.csv\")\n",
    "violation_codes.head()"
   ]
  },
  {
   "cell_type": "code",
   "execution_count": 10,
   "metadata": {
    "collapsed": true
   },
   "outputs": [],
   "source": [
    "# Create a small data frame with three code\n",
    "sample_codes = [\"02B\", \"06D\", \"99D\"]\n",
    "sample_df = pd.DataFrame(sample_codes, columns=[\"VIOLATION CODE\"])"
   ]
  },
  {
   "cell_type": "code",
   "execution_count": 11,
   "metadata": {},
   "outputs": [
    {
     "data": {
      "text/html": [
       "<div>\n",
       "<table border=\"1\" class=\"dataframe\">\n",
       "  <thead>\n",
       "    <tr style=\"text-align: right;\">\n",
       "      <th></th>\n",
       "      <th>VIOLATION CODE</th>\n",
       "      <th>VIOLATION DESCRIPTION</th>\n",
       "      <th>CRITICAL FLAG</th>\n",
       "    </tr>\n",
       "  </thead>\n",
       "  <tbody>\n",
       "    <tr>\n",
       "      <th>0</th>\n",
       "      <td>02B</td>\n",
       "      <td>Hot food item not held at or above 140 F.</td>\n",
       "      <td>Critical</td>\n",
       "    </tr>\n",
       "    <tr>\n",
       "      <th>1</th>\n",
       "      <td>06D</td>\n",
       "      <td>Food contact surface not properly washed, rins...</td>\n",
       "      <td>Critical</td>\n",
       "    </tr>\n",
       "    <tr>\n",
       "      <th>2</th>\n",
       "      <td>99D</td>\n",
       "      <td>NaN</td>\n",
       "      <td>NaN</td>\n",
       "    </tr>\n",
       "  </tbody>\n",
       "</table>\n",
       "</div>"
      ],
      "text/plain": [
       "  VIOLATION CODE                              VIOLATION DESCRIPTION  \\\n",
       "0            02B          Hot food item not held at or above 140 F.   \n",
       "1            06D  Food contact surface not properly washed, rins...   \n",
       "2            99D                                                NaN   \n",
       "\n",
       "  CRITICAL FLAG  \n",
       "0      Critical  \n",
       "1      Critical  \n",
       "2           NaN  "
      ]
     },
     "execution_count": 11,
     "metadata": {},
     "output_type": "execute_result"
    }
   ],
   "source": [
    "# Illustrate a \"left\" merge\n",
    "pd.merge(left=sample_df, right=violation_codes, how=\"left\")"
   ]
  },
  {
   "cell_type": "code",
   "execution_count": 12,
   "metadata": {},
   "outputs": [
    {
     "data": {
      "text/html": [
       "<div>\n",
       "<table border=\"1\" class=\"dataframe\">\n",
       "  <thead>\n",
       "    <tr style=\"text-align: right;\">\n",
       "      <th></th>\n",
       "      <th>VIOLATION CODE</th>\n",
       "      <th>VIOLATION DESCRIPTION</th>\n",
       "      <th>CRITICAL FLAG</th>\n",
       "    </tr>\n",
       "  </thead>\n",
       "  <tbody>\n",
       "    <tr>\n",
       "      <th>0</th>\n",
       "      <td>02B</td>\n",
       "      <td>Hot food item not held at or above 140 F.</td>\n",
       "      <td>Critical</td>\n",
       "    </tr>\n",
       "    <tr>\n",
       "      <th>1</th>\n",
       "      <td>06D</td>\n",
       "      <td>Food contact surface not properly washed, rins...</td>\n",
       "      <td>Critical</td>\n",
       "    </tr>\n",
       "  </tbody>\n",
       "</table>\n",
       "</div>"
      ],
      "text/plain": [
       "  VIOLATION CODE                              VIOLATION DESCRIPTION  \\\n",
       "0            02B          Hot food item not held at or above 140 F.   \n",
       "1            06D  Food contact surface not properly washed, rins...   \n",
       "\n",
       "  CRITICAL FLAG  \n",
       "0      Critical  \n",
       "1      Critical  "
      ]
     },
     "execution_count": 12,
     "metadata": {},
     "output_type": "execute_result"
    }
   ],
   "source": [
    "# Illustrate an \"inner\" merge\n",
    "pd.merge(left=sample_df, right=violation_codes, how=\"inner\")"
   ]
  },
  {
   "cell_type": "code",
   "execution_count": 13,
   "metadata": {
    "collapsed": true
   },
   "outputs": [],
   "source": [
    "# Merge pizza_df with violation_codes\n",
    "pizza_merged_df = pd.merge(left=pizza_df, right=violation_codes, \n",
    "    how=\"left\", on=\"VIOLATION CODE\")"
   ]
  },
  {
   "cell_type": "code",
   "execution_count": 14,
   "metadata": {},
   "outputs": [
    {
     "data": {
      "text/html": [
       "<div>\n",
       "<table border=\"1\" class=\"dataframe\">\n",
       "  <thead>\n",
       "    <tr style=\"text-align: right;\">\n",
       "      <th></th>\n",
       "      <th>ID</th>\n",
       "      <th>NAME</th>\n",
       "      <th>BORO</th>\n",
       "      <th>...</th>\n",
       "      <th>INSPECTION TYPE</th>\n",
       "      <th>VIOLATION DESCRIPTION</th>\n",
       "      <th>CRITICAL FLAG</th>\n",
       "    </tr>\n",
       "  </thead>\n",
       "  <tbody>\n",
       "    <tr>\n",
       "      <th>0</th>\n",
       "      <td>40363644</td>\n",
       "      <td>DOMINO'S</td>\n",
       "      <td>MANHATTAN</td>\n",
       "      <td>...</td>\n",
       "      <td>Cycle Inspection / Initial Inspection</td>\n",
       "      <td>Filth flies or food/refuse/sewage-associated (...</td>\n",
       "      <td>Critical</td>\n",
       "    </tr>\n",
       "    <tr>\n",
       "      <th>1</th>\n",
       "      <td>40363644</td>\n",
       "      <td>DOMINO'S</td>\n",
       "      <td>MANHATTAN</td>\n",
       "      <td>...</td>\n",
       "      <td>Cycle Inspection / Initial Inspection</td>\n",
       "      <td>Facility not vermin proof. Harborage or condit...</td>\n",
       "      <td>Not Critical</td>\n",
       "    </tr>\n",
       "    <tr>\n",
       "      <th>2</th>\n",
       "      <td>40363644</td>\n",
       "      <td>DOMINO'S</td>\n",
       "      <td>MANHATTAN</td>\n",
       "      <td>...</td>\n",
       "      <td>Cycle Inspection / Initial Inspection</td>\n",
       "      <td>Non-food contact surface improperly constructe...</td>\n",
       "      <td>Not Critical</td>\n",
       "    </tr>\n",
       "    <tr>\n",
       "      <th>3</th>\n",
       "      <td>40363644</td>\n",
       "      <td>DOMINO'S</td>\n",
       "      <td>MANHATTAN</td>\n",
       "      <td>...</td>\n",
       "      <td>Cycle Inspection / Initial Inspection</td>\n",
       "      <td>Non-food contact surface improperly constructe...</td>\n",
       "      <td>Not Critical</td>\n",
       "    </tr>\n",
       "    <tr>\n",
       "      <th>4</th>\n",
       "      <td>40363644</td>\n",
       "      <td>DOMINO'S</td>\n",
       "      <td>MANHATTAN</td>\n",
       "      <td>...</td>\n",
       "      <td>Cycle Inspection / Re-inspection</td>\n",
       "      <td>Single service item reused, improperly stored,...</td>\n",
       "      <td>Not Critical</td>\n",
       "    </tr>\n",
       "  </tbody>\n",
       "</table>\n",
       "<p>5 rows × 14 columns</p>\n",
       "</div>"
      ],
      "text/plain": [
       "         ID      NAME       BORO      ...       \\\n",
       "0  40363644  DOMINO'S  MANHATTAN      ...        \n",
       "1  40363644  DOMINO'S  MANHATTAN      ...        \n",
       "2  40363644  DOMINO'S  MANHATTAN      ...        \n",
       "3  40363644  DOMINO'S  MANHATTAN      ...        \n",
       "4  40363644  DOMINO'S  MANHATTAN      ...        \n",
       "\n",
       "                         INSPECTION TYPE  \\\n",
       "0  Cycle Inspection / Initial Inspection   \n",
       "1  Cycle Inspection / Initial Inspection   \n",
       "2  Cycle Inspection / Initial Inspection   \n",
       "3  Cycle Inspection / Initial Inspection   \n",
       "4       Cycle Inspection / Re-inspection   \n",
       "\n",
       "                               VIOLATION DESCRIPTION CRITICAL FLAG  \n",
       "0  Filth flies or food/refuse/sewage-associated (...      Critical  \n",
       "1  Facility not vermin proof. Harborage or condit...  Not Critical  \n",
       "2  Non-food contact surface improperly constructe...  Not Critical  \n",
       "3  Non-food contact surface improperly constructe...  Not Critical  \n",
       "4  Single service item reused, improperly stored,...  Not Critical  \n",
       "\n",
       "[5 rows x 14 columns]"
      ]
     },
     "execution_count": 14,
     "metadata": {},
     "output_type": "execute_result"
    }
   ],
   "source": [
    "pizza_merged_df.head()"
   ]
  },
  {
   "cell_type": "markdown",
   "metadata": {},
   "source": [
    "# Deep Dive on One Specific Restaurant"
   ]
  },
  {
   "cell_type": "code",
   "execution_count": 15,
   "metadata": {},
   "outputs": [
    {
     "data": {
      "text/plain": [
       "GRADE DATE\n",
       "2015-03-05    10.0\n",
       "2015-11-09    12.0\n",
       "2016-06-23    12.0\n",
       "2017-01-23    42.0\n",
       "Name: SCORE, dtype: float64"
      ]
     },
     "execution_count": 15,
     "metadata": {},
     "output_type": "execute_result"
    }
   ],
   "source": [
    "# Example violations from one specific restaurant\n",
    "aj_pizza = pizza_merged_df[pizza_merged_df[\"ID\"] == \"50019036\"]\n",
    "scores = aj_pizza.groupby(\"GRADE DATE\").SCORE.max()\n",
    "scores"
   ]
  },
  {
   "cell_type": "code",
   "execution_count": 25,
   "metadata": {},
   "outputs": [
    {
     "data": {
      "image/png": "[encoded data removed]",
      "text/plain": [
       "<matplotlib.figure.Figure at 0x111c26e50>"
      ]
     },
     "metadata": {},
     "output_type": "display_data"
    }
   ],
   "source": [
    "%matplotlib inline\n",
    "scores.plot.line(marker='o');"
   ]
  },
  {
   "cell_type": "code",
   "execution_count": 15,
   "metadata": {},
   "outputs": [
    {
     "name": "stdout",
     "output_type": "stream",
     "text": [
      "[02G]:  Cold food item held above 41 F (smoked fish and reduced oxygen packaged foods above 38 F) except during necessary preparation.\n",
      "[04N]:  Filth flies or food/refuse/sewage-associated (FRSA) flies present in facility\u001as food and/or non-food areas. Filth flies include house flies, little house flies, blow flies, bottle flies and flesh flies. Food/refuse/sewage-associated flies include fruit flies, drain flies and Phorid flies.\n",
      "[10H]:  Proper sanitization not provided for utensil ware washing operation.\n",
      "[08A]:  Facility not vermin proof. Harborage or conditions conducive to attracting vermin to the premises and/or allowing vermin to exist.\n"
     ]
    }
   ],
   "source": [
    "recent = aj_pizza[aj_pizza[\"GRADE DATE\"] == \"2017-01-23\"]\n",
    "for index, row in recent.iterrows():\n",
    "    print \"[%s]:  %s\" % (row[\"VIOLATION CODE\"], row[\"VIOLATION DESCRIPTION\"])"
   ]
  }
 ],
 "metadata": {
  "kernelspec": {
   "display_name": "Python 2",
   "language": "python",
   "name": "python2"
  },
  "language_info": {
   "codemirror_mode": {
    "name": "ipython",
    "version": 2
   },
   "file_extension": ".py",
   "mimetype": "text/x-python",
   "name": "python",
   "nbconvert_exporter": "python",
   "pygments_lexer": "ipython2",
   "version": "2.7.11"
  }
 },
 "nbformat": 4,
 "nbformat_minor": 2
}
