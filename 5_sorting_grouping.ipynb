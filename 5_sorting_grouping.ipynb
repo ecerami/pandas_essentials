{
 "cells": [
  {
   "cell_type": "markdown",
   "metadata": {},
   "source": [
    "# Pandas Essentials:  Sorting and Grouping your Data\n",
    "\n",
    "This Pandas Notebook illustrates the essentials of grouping and sorting your data.  Concepts are illustrated with the [New York City pizza restaurant inspection data](https://github.com/ecerami/pydata-essentials/blob/master/pandas/data/NYC_Pizza_2017.csv).\n",
    "\n",
    "Topics include:\n",
    "\n",
    "* Sorting data\n",
    "* Grouping data"
   ]
  },
  {
   "cell_type": "markdown",
   "metadata": {},
   "source": [
    "# Loading and Peparing Data"
   ]
  },
  {
   "cell_type": "code",
   "execution_count": 1,
   "metadata": {
    "collapsed": true
   },
   "outputs": [],
   "source": [
    "import pandas as pd\n",
    "\n",
    "# To get started, we load the NYC Pizza Restaurant Inspection Data Set\n",
    "pizza_df = pd.read_csv(\"data/NYC_Pizza_2017.csv\")\n",
    "\n",
    "# Change data type of CAMIS and ZIPCODE to String\n",
    "pizza_df.CAMIS = pizza_df.CAMIS.astype(str)\n",
    "pizza_df.ZIPCODE = pizza_df.ZIPCODE.astype(int).astype(str)\n",
    "\n",
    "# Set max display columns and rows (for more compact view)\n",
    "pd.options.display.max_columns = 6\n",
    "pd.options.display.max_rows = 6"
   ]
  },
  {
   "cell_type": "code",
   "execution_count": 2,
   "metadata": {},
   "outputs": [
    {
     "data": {
      "text/html": [
       "<div>\n",
       "<table border=\"1\" class=\"dataframe\">\n",
       "  <thead>\n",
       "    <tr style=\"text-align: right;\">\n",
       "      <th></th>\n",
       "      <th>CAMIS</th>\n",
       "      <th>DBA</th>\n",
       "      <th>BORO</th>\n",
       "      <th>...</th>\n",
       "      <th>SCORE</th>\n",
       "      <th>GRADE</th>\n",
       "      <th>GRADE DATE</th>\n",
       "    </tr>\n",
       "  </thead>\n",
       "  <tbody>\n",
       "    <tr>\n",
       "      <th>0</th>\n",
       "      <td>40363644</td>\n",
       "      <td>DOMINO'S</td>\n",
       "      <td>MANHATTAN</td>\n",
       "      <td>...</td>\n",
       "      <td>4.0</td>\n",
       "      <td>A</td>\n",
       "      <td>2017-03-30</td>\n",
       "    </tr>\n",
       "    <tr>\n",
       "      <th>1</th>\n",
       "      <td>40363945</td>\n",
       "      <td>DOMINO'S</td>\n",
       "      <td>MANHATTAN</td>\n",
       "      <td>...</td>\n",
       "      <td>12.0</td>\n",
       "      <td>A</td>\n",
       "      <td>2017-03-02</td>\n",
       "    </tr>\n",
       "    <tr>\n",
       "      <th>2</th>\n",
       "      <td>40364920</td>\n",
       "      <td>RIZZO'S FINE PIZZA</td>\n",
       "      <td>QUEENS</td>\n",
       "      <td>...</td>\n",
       "      <td>12.0</td>\n",
       "      <td>A</td>\n",
       "      <td>2016-11-03</td>\n",
       "    </tr>\n",
       "    <tr>\n",
       "      <th>3</th>\n",
       "      <td>40365280</td>\n",
       "      <td>COMO PIZZA</td>\n",
       "      <td>MANHATTAN</td>\n",
       "      <td>...</td>\n",
       "      <td>10.0</td>\n",
       "      <td>A</td>\n",
       "      <td>2016-08-29</td>\n",
       "    </tr>\n",
       "    <tr>\n",
       "      <th>4</th>\n",
       "      <td>40365632</td>\n",
       "      <td>J&amp;V FAMOUS PIZZA</td>\n",
       "      <td>BROOKLYN</td>\n",
       "      <td>...</td>\n",
       "      <td>2.0</td>\n",
       "      <td>A</td>\n",
       "      <td>2017-04-05</td>\n",
       "    </tr>\n",
       "  </tbody>\n",
       "</table>\n",
       "<p>5 rows × 10 columns</p>\n",
       "</div>"
      ],
      "text/plain": [
       "      CAMIS                 DBA       BORO     ...     SCORE GRADE  GRADE DATE\n",
       "0  40363644            DOMINO'S  MANHATTAN     ...       4.0     A  2017-03-30\n",
       "1  40363945            DOMINO'S  MANHATTAN     ...      12.0     A  2017-03-02\n",
       "2  40364920  RIZZO'S FINE PIZZA     QUEENS     ...      12.0     A  2016-11-03\n",
       "3  40365280          COMO PIZZA  MANHATTAN     ...      10.0     A  2016-08-29\n",
       "4  40365632    J&V FAMOUS PIZZA   BROOKLYN     ...       2.0     A  2017-04-05\n",
       "\n",
       "[5 rows x 10 columns]"
      ]
     },
     "execution_count": 2,
     "metadata": {},
     "output_type": "execute_result"
    }
   ],
   "source": [
    "pizza_df.head()"
   ]
  },
  {
   "cell_type": "markdown",
   "metadata": {},
   "source": [
    "# Sorting DataFrames\n",
    "\n",
    "Use `sort_values()` to sort a data frame by a specific column."
   ]
  },
  {
   "cell_type": "code",
   "execution_count": 11,
   "metadata": {},
   "outputs": [
    {
     "data": {
      "text/html": [
       "<div>\n",
       "<table border=\"1\" class=\"dataframe\">\n",
       "  <thead>\n",
       "    <tr style=\"text-align: right;\">\n",
       "      <th></th>\n",
       "      <th>CAMIS</th>\n",
       "      <th>DBA</th>\n",
       "      <th>BORO</th>\n",
       "      <th>...</th>\n",
       "      <th>SCORE</th>\n",
       "      <th>GRADE</th>\n",
       "      <th>GRADE DATE</th>\n",
       "    </tr>\n",
       "  </thead>\n",
       "  <tbody>\n",
       "    <tr>\n",
       "      <th>1122</th>\n",
       "      <td>50058564</td>\n",
       "      <td>DREAMERS PIZZA</td>\n",
       "      <td>MANHATTAN</td>\n",
       "      <td>...</td>\n",
       "      <td>2.0</td>\n",
       "      <td>A</td>\n",
       "      <td>2017-02-02</td>\n",
       "    </tr>\n",
       "    <tr>\n",
       "      <th>134</th>\n",
       "      <td>40721285</td>\n",
       "      <td>DOMINO'S</td>\n",
       "      <td>MANHATTAN</td>\n",
       "      <td>...</td>\n",
       "      <td>2.0</td>\n",
       "      <td>A</td>\n",
       "      <td>2017-03-24</td>\n",
       "    </tr>\n",
       "    <tr>\n",
       "      <th>203</th>\n",
       "      <td>40878675</td>\n",
       "      <td>TACO BELL PIZZA HUT EXPRESS</td>\n",
       "      <td>MANHATTAN</td>\n",
       "      <td>...</td>\n",
       "      <td>2.0</td>\n",
       "      <td>A</td>\n",
       "      <td>2016-09-26</td>\n",
       "    </tr>\n",
       "    <tr>\n",
       "      <th>1115</th>\n",
       "      <td>50058340</td>\n",
       "      <td>LITTLE CAESARS</td>\n",
       "      <td>MANHATTAN</td>\n",
       "      <td>...</td>\n",
       "      <td>2.0</td>\n",
       "      <td>A</td>\n",
       "      <td>2017-03-22</td>\n",
       "    </tr>\n",
       "    <tr>\n",
       "      <th>898</th>\n",
       "      <td>50035899</td>\n",
       "      <td>NEAPOLITAN EXPRESS</td>\n",
       "      <td>MANHATTAN</td>\n",
       "      <td>...</td>\n",
       "      <td>4.0</td>\n",
       "      <td>A</td>\n",
       "      <td>2016-10-05</td>\n",
       "    </tr>\n",
       "  </tbody>\n",
       "</table>\n",
       "<p>5 rows × 10 columns</p>\n",
       "</div>"
      ],
      "text/plain": [
       "         CAMIS                          DBA       BORO     ...     SCORE  \\\n",
       "1122  50058564               DREAMERS PIZZA  MANHATTAN     ...       2.0   \n",
       "134   40721285                     DOMINO'S  MANHATTAN     ...       2.0   \n",
       "203   40878675  TACO BELL PIZZA HUT EXPRESS  MANHATTAN     ...       2.0   \n",
       "1115  50058340               LITTLE CAESARS  MANHATTAN     ...       2.0   \n",
       "898   50035899           NEAPOLITAN EXPRESS  MANHATTAN     ...       4.0   \n",
       "\n",
       "     GRADE  GRADE DATE  \n",
       "1122     A  2017-02-02  \n",
       "134      A  2017-03-24  \n",
       "203      A  2016-09-26  \n",
       "1115     A  2017-03-22  \n",
       "898      A  2016-10-05  \n",
       "\n",
       "[5 rows x 10 columns]"
      ]
     },
     "execution_count": 11,
     "metadata": {},
     "output_type": "execute_result"
    }
   ],
   "source": [
    "# Example:  Select restaurants by zipcode and then sort by score\n",
    "neighborhood = pizza_df[pizza_df.ZIPCODE == \"10029\"]\n",
    "neighborhood = neighborhood.sort_values(by=\"SCORE\", ascending=True)\n",
    "neighborhood.head()"
   ]
  },
  {
   "cell_type": "markdown",
   "metadata": {},
   "source": [
    "# Groupby\n",
    "\n",
    "The `groupby()` function uses the **split/apply/combine** paradigm to analyze a dataframe."
   ]
  },
  {
   "cell_type": "markdown",
   "metadata": {},
   "source": [
    "## Example 1:  Which ZipCode has the most Pizza Restaurants?"
   ]
  },
  {
   "cell_type": "code",
   "execution_count": 5,
   "metadata": {},
   "outputs": [
    {
     "data": {
      "text/plain": [
       "ZIPCODE\n",
       "10019    21\n",
       "11385    21\n",
       "10002    19\n",
       "10003    19\n",
       "10029    18\n",
       "dtype: int64"
      ]
     },
     "execution_count": 5,
     "metadata": {},
     "output_type": "execute_result"
    }
   ],
   "source": [
    "# Count by ZipCode\n",
    "zipcode = pizza_df.groupby(by=\"ZIPCODE\").size()\n",
    "zipcode = zipcode.sort_values(ascending=False)\n",
    "zipcode.head()"
   ]
  },
  {
   "cell_type": "markdown",
   "metadata": {},
   "source": [
    "## Example 2:  Which Pizza Chain is most Dominant in NYC?"
   ]
  },
  {
   "cell_type": "code",
   "execution_count": 6,
   "metadata": {},
   "outputs": [
    {
     "data": {
      "text/plain": [
       "DBA\n",
       "DOMINO'S          84\n",
       "PAPA JOHN'S       46\n",
       "LITTLE CAESARS    38\n",
       "PIZZA HUT         18\n",
       "JOE'S PIZZA        9\n",
       "dtype: int64"
      ]
     },
     "execution_count": 6,
     "metadata": {},
     "output_type": "execute_result"
    }
   ],
   "source": [
    "# Count by Business Name, identify chains versus independent restaurants\n",
    "dba = pizza_df.groupby(by=\"DBA\").size()\n",
    "dba = dba.sort_values(ascending=False)\n",
    "dba.head()"
   ]
  },
  {
   "cell_type": "markdown",
   "metadata": {},
   "source": [
    "## Example 3:  Which Borough has the Lowest Mean Inspection Score?"
   ]
  },
  {
   "cell_type": "code",
   "execution_count": 7,
   "metadata": {},
   "outputs": [
    {
     "data": {
      "text/html": [
       "<div>\n",
       "<table border=\"1\" class=\"dataframe\">\n",
       "  <thead>\n",
       "    <tr style=\"text-align: right;\">\n",
       "      <th></th>\n",
       "      <th>SCORE</th>\n",
       "    </tr>\n",
       "    <tr>\n",
       "      <th>BORO</th>\n",
       "      <th></th>\n",
       "    </tr>\n",
       "  </thead>\n",
       "  <tbody>\n",
       "    <tr>\n",
       "      <th>BROOKLYN</th>\n",
       "      <td>9.973333</td>\n",
       "    </tr>\n",
       "    <tr>\n",
       "      <th>QUEENS</th>\n",
       "      <td>9.989130</td>\n",
       "    </tr>\n",
       "    <tr>\n",
       "      <th>MANHATTAN</th>\n",
       "      <td>10.075758</td>\n",
       "    </tr>\n",
       "    <tr>\n",
       "      <th>BRONX</th>\n",
       "      <td>10.554974</td>\n",
       "    </tr>\n",
       "    <tr>\n",
       "      <th>STATEN ISLAND</th>\n",
       "      <td>10.843137</td>\n",
       "    </tr>\n",
       "  </tbody>\n",
       "</table>\n",
       "</div>"
      ],
      "text/plain": [
       "                   SCORE\n",
       "BORO                    \n",
       "BROOKLYN        9.973333\n",
       "QUEENS          9.989130\n",
       "MANHATTAN      10.075758\n",
       "BRONX          10.554974\n",
       "STATEN ISLAND  10.843137"
      ]
     },
     "execution_count": 7,
     "metadata": {},
     "output_type": "execute_result"
    }
   ],
   "source": [
    "# Mean Score by BORO\n",
    "boro = pizza_df.groupby(by=\"BORO\").mean()\n",
    "boro = boro.sort_values(by=\"SCORE\")\n",
    "boro.head()"
   ]
  },
  {
   "cell_type": "code",
   "execution_count": 8,
   "metadata": {},
   "outputs": [
    {
     "data": {
      "text/plain": [
       "BORO\n",
       "BROOKLYN          9.973333\n",
       "QUEENS            9.989130\n",
       "MANHATTAN        10.075758\n",
       "BRONX            10.554974\n",
       "STATEN ISLAND    10.843137\n",
       "Name: SCORE, dtype: float64"
      ]
     },
     "execution_count": 8,
     "metadata": {},
     "output_type": "execute_result"
    }
   ],
   "source": [
    "# Alternative Syntax #1\n",
    "boro = pizza_df.groupby(by=\"BORO\").SCORE.mean()\n",
    "boro = boro.sort_values()\n",
    "boro.head()"
   ]
  },
  {
   "cell_type": "code",
   "execution_count": 9,
   "metadata": {},
   "outputs": [
    {
     "data": {
      "text/plain": [
       "BORO\n",
       "BROOKLYN          9.973333\n",
       "QUEENS            9.989130\n",
       "MANHATTAN        10.075758\n",
       "BRONX            10.554974\n",
       "STATEN ISLAND    10.843137\n",
       "Name: SCORE, dtype: float64"
      ]
     },
     "execution_count": 9,
     "metadata": {},
     "output_type": "execute_result"
    }
   ],
   "source": [
    "# Alternative Syntax #2\n",
    "boro = pizza_df.groupby(by=\"BORO\")[\"SCORE\"].mean()\n",
    "boro = boro.sort_values()\n",
    "boro.head()"
   ]
  },
  {
   "cell_type": "markdown",
   "metadata": {},
   "source": [
    "## Example 4:  Calculate Inspection score stats by Borough"
   ]
  },
  {
   "cell_type": "code",
   "execution_count": 14,
   "metadata": {},
   "outputs": [
    {
     "data": {
      "text/html": [
       "<div>\n",
       "<table border=\"1\" class=\"dataframe\">\n",
       "  <thead>\n",
       "    <tr>\n",
       "      <th></th>\n",
       "      <th colspan=\"4\" halign=\"left\">SCORE</th>\n",
       "    </tr>\n",
       "    <tr>\n",
       "      <th></th>\n",
       "      <th>amin</th>\n",
       "      <th>amax</th>\n",
       "      <th>mean</th>\n",
       "      <th>std</th>\n",
       "    </tr>\n",
       "    <tr>\n",
       "      <th>BORO</th>\n",
       "      <th></th>\n",
       "      <th></th>\n",
       "      <th></th>\n",
       "      <th></th>\n",
       "    </tr>\n",
       "  </thead>\n",
       "  <tbody>\n",
       "    <tr>\n",
       "      <th>BRONX</th>\n",
       "      <td>0.0</td>\n",
       "      <td>54.0</td>\n",
       "      <td>10.554974</td>\n",
       "      <td>7.125629</td>\n",
       "    </tr>\n",
       "    <tr>\n",
       "      <th>BROOKLYN</th>\n",
       "      <td>0.0</td>\n",
       "      <td>43.0</td>\n",
       "      <td>9.973333</td>\n",
       "      <td>5.740715</td>\n",
       "    </tr>\n",
       "    <tr>\n",
       "      <th>MANHATTAN</th>\n",
       "      <td>0.0</td>\n",
       "      <td>42.0</td>\n",
       "      <td>10.075758</td>\n",
       "      <td>5.352358</td>\n",
       "    </tr>\n",
       "    <tr>\n",
       "      <th>QUEENS</th>\n",
       "      <td>0.0</td>\n",
       "      <td>42.0</td>\n",
       "      <td>9.989130</td>\n",
       "      <td>5.407391</td>\n",
       "    </tr>\n",
       "    <tr>\n",
       "      <th>STATEN ISLAND</th>\n",
       "      <td>2.0</td>\n",
       "      <td>39.0</td>\n",
       "      <td>10.843137</td>\n",
       "      <td>7.035261</td>\n",
       "    </tr>\n",
       "  </tbody>\n",
       "</table>\n",
       "</div>"
      ],
      "text/plain": [
       "              SCORE                           \n",
       "               amin  amax       mean       std\n",
       "BORO                                          \n",
       "BRONX           0.0  54.0  10.554974  7.125629\n",
       "BROOKLYN        0.0  43.0   9.973333  5.740715\n",
       "MANHATTAN       0.0  42.0  10.075758  5.352358\n",
       "QUEENS          0.0  42.0   9.989130  5.407391\n",
       "STATEN ISLAND   2.0  39.0  10.843137  7.035261"
      ]
     },
     "execution_count": 14,
     "metadata": {},
     "output_type": "execute_result"
    }
   ],
   "source": [
    "import numpy as np\n",
    "boro = pizza_df.groupby(by=\"BORO\").aggregate(\n",
    "    [np.min, np.max, np.mean, np.std])\n",
    "boro.head()"
   ]
  },
  {
   "cell_type": "code",
   "execution_count": null,
   "metadata": {
    "collapsed": true
   },
   "outputs": [],
   "source": []
  }
 ],
 "metadata": {
  "kernelspec": {
   "display_name": "Python 2",
   "language": "python",
   "name": "python2"
  },
  "language_info": {
   "codemirror_mode": {
    "name": "ipython",
    "version": 2
   },
   "file_extension": ".py",
   "mimetype": "text/x-python",
   "name": "python",
   "nbconvert_exporter": "python",
   "pygments_lexer": "ipython2",
   "version": "2.7.11"
  }
 },
 "nbformat": 4,
 "nbformat_minor": 2
}
