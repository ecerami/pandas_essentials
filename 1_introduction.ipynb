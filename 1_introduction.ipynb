{
 "cells": [
  {
   "cell_type": "markdown",
   "metadata": {},
   "source": [
    "# Pandas Essentials:  Introduction\n",
    "\n",
    "This Pandas Notebook will get you familiar with the Jupyter Notebook interface."
   ]
  },
  {
   "cell_type": "markdown",
   "metadata": {},
   "source": [
    "# Hello, World!"
   ]
  },
  {
   "cell_type": "code",
   "execution_count": 11,
   "metadata": {},
   "outputs": [
    {
     "name": "stdout",
     "output_type": "stream",
     "text": [
      "Hello, World!\n"
     ]
    }
   ],
   "source": [
    "print (\"Hello, World!\")"
   ]
  },
  {
   "cell_type": "markdown",
   "metadata": {},
   "source": [
    "# Verifying Pandas Installation"
   ]
  },
  {
   "cell_type": "code",
   "execution_count": 14,
   "metadata": {},
   "outputs": [
    {
     "data": {
      "text/plain": [
       "u'0.19.2'"
      ]
     },
     "execution_count": 14,
     "metadata": {},
     "output_type": "execute_result"
    }
   ],
   "source": [
    "import pandas as pd\n",
    "pd.__version__"
   ]
  },
  {
   "cell_type": "markdown",
   "metadata": {},
   "source": [
    "# Essential Jupyter Navigation\n",
    "\n",
    "When interacting with Jupyter, the platform supports two modes:\n",
    " \n",
    "* **Edit Mode**:  automatically enabled whenever you click a cell.  In this mode, you can edit code or Markdown.  You know you are in Edit Mode when the cell border is highlighted in green.\n",
    "* **Command Mode**:  automatically enabled whenever you hit the ESC key or click outside a cell.  In this mode, you can enter commands.  You know you are in Command Mode when the left border of the cell is highlighted in blue."
   ]
  },
  {
   "cell_type": "markdown",
   "metadata": {},
   "source": [
    "# Most Useful Keyboard Shortcuts"
   ]
  },
  {
   "cell_type": "markdown",
   "metadata": {},
   "source": [
    "* **j, k**:  used to move up and down through cells.\n",
    "* **b**:  adds a new cell directly below the current cell.\n",
    "* **a**:  adds a new cell directly above the current cell.\n",
    "* **d,d**:  to delete the current cell.\n",
    "* **SHIFT + RETURN**:  executes the current cell.\n",
    "* For everything else, I usually hit **h** to view other keyboard shortcuts or **p** to open the Command Palette."
   ]
  },
  {
   "cell_type": "markdown",
   "metadata": {},
   "source": [
    "# Auto-Completion and API Details within Jupyter Notebooks"
   ]
  },
  {
   "cell_type": "markdown",
   "metadata": {},
   "source": [
    "Tab auto-completion is one of the most useful features within Jupyter.\n",
    "\n",
    "For example, if you type:  pd.[TAB], you will see a list of Pandas specific functions.\n",
    "\n",
    "Alternatively, if you type pd.read_csv([SHIFT + TAB], you can view API details:\n",
    "\n",
    "* Hit [SHIFT + TAB] once for the method signature.\n",
    "* Hit [SHIFT + TAB] twice to see the complete method documentation.\n",
    "* Hit [SHIFT + TAB] three times to persist the method documentation for ~10 seconds.\n",
    "* Hit [SHIFT + TAB] four times to persist the method documentation in its own window."
   ]
  },
  {
   "cell_type": "markdown",
   "metadata": {
    "collapsed": true
   },
   "source": [
    "# Markdown"
   ]
  },
  {
   "cell_type": "markdown",
   "metadata": {
    "collapsed": true
   },
   "source": [
    "Jupyter Notebook supports Markdown, and you can use Markdown cells to describe your data analysis or take notes.  For this book, we stick to very simple markdown options:\n",
    "\n",
    "# Header 1\n",
    "## Header 2\n",
    "### Header 3 "
   ]
  }
 ],
 "metadata": {
  "kernelspec": {
   "display_name": "Python 2",
   "language": "python",
   "name": "python2"
  },
  "language_info": {
   "codemirror_mode": {
    "name": "ipython",
    "version": 2
   },
   "file_extension": ".py",
   "mimetype": "text/x-python",
   "name": "python",
   "nbconvert_exporter": "python",
   "pygments_lexer": "ipython2",
   "version": "2.7.11"
  }
 },
 "nbformat": 4,
 "nbformat_minor": 2
}
