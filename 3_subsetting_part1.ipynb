{
 "cells": [
  {
   "cell_type": "markdown",
   "metadata": {},
   "source": [
    "# Pandas Essentials:  Selecting Subsets of Data\n",
    "\n",
    "This Pandas Notebook illustrates the essentials of selecting subsets of data.  Concepts are illustrated with the [New York City pizza restaurant inspection data](https://github.com/ecerami/pydata-essentials/blob/master/pandas/data/NYC_Pizza_2017.csv).   \n",
    "\n",
    "Topics include:\n",
    "\n",
    "* Selecting columns.\n",
    "* Selecting rows based on one or more boolean conditions.\n",
    "* Selecting rows based on string matching and regular expressions.\n"
   ]
  },
  {
   "cell_type": "code",
   "execution_count": 1,
   "metadata": {
    "collapsed": true
   },
   "outputs": [],
   "source": [
    "# To get started, we load the NYC Pizza Restaurant Inspection Data Set\n",
    "import pandas as pd\n",
    "pizza_df = pd.read_csv(\"data/NYC_Pizza_2017.csv\")\n",
    "\n",
    "# Set max display columns and rows (for more compact view)\n",
    "pd.options.display.max_columns = 4\n",
    "pd.options.display.max_rows = 6"
   ]
  },
  {
   "cell_type": "markdown",
   "metadata": {},
   "source": [
    "# Selecting Columns\n",
    "\n",
    "Simple examples to get started --> Select one or more columns."
   ]
  },
  {
   "cell_type": "code",
   "execution_count": 2,
   "metadata": {},
   "outputs": [
    {
     "data": {
      "text/plain": [
       "0        4.0\n",
       "1       12.0\n",
       "2       12.0\n",
       "        ... \n",
       "1145     9.0\n",
       "1146     7.0\n",
       "1147     6.0\n",
       "Name: SCORE, dtype: float64"
      ]
     },
     "execution_count": 2,
     "metadata": {},
     "output_type": "execute_result"
    }
   ],
   "source": [
    "# Select a Single Column\n",
    "pizza_df[\"SCORE\"]"
   ]
  },
  {
   "cell_type": "code",
   "execution_count": 3,
   "metadata": {},
   "outputs": [
    {
     "data": {
      "text/html": [
       "<div>\n",
       "<table border=\"1\" class=\"dataframe\">\n",
       "  <thead>\n",
       "    <tr style=\"text-align: right;\">\n",
       "      <th></th>\n",
       "      <th>SCORE</th>\n",
       "      <th>GRADE</th>\n",
       "    </tr>\n",
       "  </thead>\n",
       "  <tbody>\n",
       "    <tr>\n",
       "      <th>0</th>\n",
       "      <td>4.0</td>\n",
       "      <td>A</td>\n",
       "    </tr>\n",
       "    <tr>\n",
       "      <th>1</th>\n",
       "      <td>12.0</td>\n",
       "      <td>A</td>\n",
       "    </tr>\n",
       "    <tr>\n",
       "      <th>2</th>\n",
       "      <td>12.0</td>\n",
       "      <td>A</td>\n",
       "    </tr>\n",
       "    <tr>\n",
       "      <th>...</th>\n",
       "      <td>...</td>\n",
       "      <td>...</td>\n",
       "    </tr>\n",
       "    <tr>\n",
       "      <th>1145</th>\n",
       "      <td>9.0</td>\n",
       "      <td>A</td>\n",
       "    </tr>\n",
       "    <tr>\n",
       "      <th>1146</th>\n",
       "      <td>7.0</td>\n",
       "      <td>Z</td>\n",
       "    </tr>\n",
       "    <tr>\n",
       "      <th>1147</th>\n",
       "      <td>6.0</td>\n",
       "      <td>A</td>\n",
       "    </tr>\n",
       "  </tbody>\n",
       "</table>\n",
       "<p>1148 rows × 2 columns</p>\n",
       "</div>"
      ],
      "text/plain": [
       "      SCORE GRADE\n",
       "0       4.0     A\n",
       "1      12.0     A\n",
       "2      12.0     A\n",
       "...     ...   ...\n",
       "1145    9.0     A\n",
       "1146    7.0     Z\n",
       "1147    6.0     A\n",
       "\n",
       "[1148 rows x 2 columns]"
      ]
     },
     "execution_count": 3,
     "metadata": {},
     "output_type": "execute_result"
    }
   ],
   "source": [
    "# Select Multiple Columns\n",
    "pizza_df[[\"SCORE\", \"GRADE\"]]"
   ]
  },
  {
   "cell_type": "code",
   "execution_count": 4,
   "metadata": {},
   "outputs": [
    {
     "data": {
      "text/plain": [
       "0        4.0\n",
       "1       12.0\n",
       "2       12.0\n",
       "        ... \n",
       "1145     9.0\n",
       "1146     7.0\n",
       "1147     6.0\n",
       "Name: SCORE, dtype: float64"
      ]
     },
     "execution_count": 4,
     "metadata": {},
     "output_type": "execute_result"
    }
   ],
   "source": [
    "# Select a Single Column with dot notation (more compact)\n",
    "pizza_df.SCORE"
   ]
  },
  {
   "cell_type": "markdown",
   "metadata": {},
   "source": [
    "# Selecting Rows Based on Boolean Conditions\n",
    "\n",
    "Next, we can select rows based on boolean conditions."
   ]
  },
  {
   "cell_type": "code",
   "execution_count": 5,
   "metadata": {},
   "outputs": [
    {
     "data": {
      "text/plain": [
       "1148"
      ]
     },
     "execution_count": 5,
     "metadata": {},
     "output_type": "execute_result"
    }
   ],
   "source": [
    "# As a baseline reference, determine total numer of rows in the pizza data frame\n",
    "pizza_df.shape[0]"
   ]
  },
  {
   "cell_type": "markdown",
   "metadata": {},
   "source": [
    "## Single Boolean Conditions"
   ]
  },
  {
   "cell_type": "code",
   "execution_count": 6,
   "metadata": {},
   "outputs": [
    {
     "data": {
      "text/plain": [
       "0        True\n",
       "1        True\n",
       "2        True\n",
       "        ...  \n",
       "1145     True\n",
       "1146    False\n",
       "1147     True\n",
       "Name: GRADE, dtype: bool"
      ]
     },
     "execution_count": 6,
     "metadata": {},
     "output_type": "execute_result"
    }
   ],
   "source": [
    "# First illustrate logical boolean conditions\n",
    "# Returns a Series with boolean values, TRUE indicates that the condition was met\n",
    "pizza_df[\"GRADE\"] == \"A\""
   ]
  },
  {
   "cell_type": "code",
   "execution_count": 7,
   "metadata": {},
   "outputs": [
    {
     "name": "stdout",
     "output_type": "stream",
     "text": [
      "Total number of restaurants with Grade A:  1043\n",
      "Total number of restaurants with Grade A:  1043\n"
     ]
    }
   ],
   "source": [
    "# Select all Restaurants with Grade == A\n",
    "\n",
    "# Option 1:  Using Square Brackets\n",
    "grade_a = pizza_df[pizza_df[\"GRADE\"] == \"A\"]\n",
    "print (\"Total number of restaurants with Grade A:  %d\" % grade_a.shape[0])\n",
    "\n",
    "# Option 2:  More compact Dot Notation\n",
    "grade_a = pizza_df[pizza_df.GRADE == \"A\"]\n",
    "print (\"Total number of restaurants with Grade A:  %d\" % grade_a.shape[0])"
   ]
  },
  {
   "cell_type": "code",
   "execution_count": 8,
   "metadata": {},
   "outputs": [
    {
     "name": "stdout",
     "output_type": "stream",
     "text": [
      "Total number of restaurants with Grade B:  67\n"
     ]
    }
   ],
   "source": [
    "# Select all Restuarants with a Grade == B\n",
    "grade_b = pizza_df[pizza_df.GRADE == \"B\"]\n",
    "print (\"Total number of restaurants with Grade B:  %d\" % grade_b.shape[0])"
   ]
  },
  {
   "cell_type": "code",
   "execution_count": 9,
   "metadata": {},
   "outputs": [
    {
     "name": "stdout",
     "output_type": "stream",
     "text": [
      "Total number of restaurants with Grade C:  6\n"
     ]
    },
    {
     "data": {
      "text/html": [
       "<div>\n",
       "<table border=\"1\" class=\"dataframe\">\n",
       "  <thead>\n",
       "    <tr style=\"text-align: right;\">\n",
       "      <th></th>\n",
       "      <th>CAMIS</th>\n",
       "      <th>DBA</th>\n",
       "      <th>...</th>\n",
       "      <th>GRADE</th>\n",
       "      <th>GRADE DATE</th>\n",
       "    </tr>\n",
       "  </thead>\n",
       "  <tbody>\n",
       "    <tr>\n",
       "      <th>306</th>\n",
       "      <td>41174904</td>\n",
       "      <td>TONY'S PIZZERIA</td>\n",
       "      <td>...</td>\n",
       "      <td>C</td>\n",
       "      <td>2016-10-12</td>\n",
       "    </tr>\n",
       "    <tr>\n",
       "      <th>402</th>\n",
       "      <td>41351576</td>\n",
       "      <td>LEAN CRUST/ Silver Spoon</td>\n",
       "      <td>...</td>\n",
       "      <td>C</td>\n",
       "      <td>2016-12-06</td>\n",
       "    </tr>\n",
       "    <tr>\n",
       "      <th>783</th>\n",
       "      <td>50011519</td>\n",
       "      <td>LA VITA MIA PIZZERIA RESTAURANT</td>\n",
       "      <td>...</td>\n",
       "      <td>C</td>\n",
       "      <td>2016-09-13</td>\n",
       "    </tr>\n",
       "    <tr>\n",
       "      <th>860</th>\n",
       "      <td>50019036</td>\n",
       "      <td>AJ'S PIZZA</td>\n",
       "      <td>...</td>\n",
       "      <td>C</td>\n",
       "      <td>2017-01-23</td>\n",
       "    </tr>\n",
       "    <tr>\n",
       "      <th>1032</th>\n",
       "      <td>50047950</td>\n",
       "      <td>GINA'S PIZZA PASTA CAFE</td>\n",
       "      <td>...</td>\n",
       "      <td>C</td>\n",
       "      <td>2016-11-17</td>\n",
       "    </tr>\n",
       "    <tr>\n",
       "      <th>1110</th>\n",
       "      <td>50057519</td>\n",
       "      <td>BELLA PIZZA AND GRILL</td>\n",
       "      <td>...</td>\n",
       "      <td>C</td>\n",
       "      <td>2017-01-09</td>\n",
       "    </tr>\n",
       "  </tbody>\n",
       "</table>\n",
       "<p>6 rows × 10 columns</p>\n",
       "</div>"
      ],
      "text/plain": [
       "         CAMIS                              DBA     ...     GRADE  GRADE DATE\n",
       "306   41174904                  TONY'S PIZZERIA     ...         C  2016-10-12\n",
       "402   41351576         LEAN CRUST/ Silver Spoon     ...         C  2016-12-06\n",
       "783   50011519  LA VITA MIA PIZZERIA RESTAURANT     ...         C  2016-09-13\n",
       "860   50019036                       AJ'S PIZZA     ...         C  2017-01-23\n",
       "1032  50047950          GINA'S PIZZA PASTA CAFE     ...         C  2016-11-17\n",
       "1110  50057519            BELLA PIZZA AND GRILL     ...         C  2017-01-09\n",
       "\n",
       "[6 rows x 10 columns]"
      ]
     },
     "execution_count": 9,
     "metadata": {},
     "output_type": "execute_result"
    }
   ],
   "source": [
    "# Select all Restuarants with a Grade == C;  restaurants you probably want to avoid!\n",
    "grade_c = pizza_df[pizza_df.GRADE == \"C\"]\n",
    "print (\"Total number of restaurants with Grade C:  %d\" % grade_c.shape[0])\n",
    "grade_c.head(10)"
   ]
  },
  {
   "cell_type": "code",
   "execution_count": 10,
   "metadata": {},
   "outputs": [
    {
     "name": "stdout",
     "output_type": "stream",
     "text": [
      "Number of Restaurants with the Best Scores:  119\n"
     ]
    }
   ],
   "source": [
    "# Select all Restaurants with a score of 3 or less.\n",
    "# The lower the score, the fewer the number of inspection violations.\n",
    "# These are the safest restaurants!\n",
    "best_scores = pizza_df[pizza_df.SCORE <= 3]\n",
    "print (\"Number of Restaurants with the Best Scores:  %d\" % best_scores.shape[0])"
   ]
  },
  {
   "cell_type": "markdown",
   "metadata": {},
   "source": [
    "## Multiple Boolean Conditions\n",
    "\n",
    "To specify multiple boolean conditions:\n",
    "\n",
    "* Use the operators:  `&` = and, `|` = or.\n",
    "* Enclose each condition in parenthesis.\n",
    "* Use `~` to negate.\n",
    "* Use `isin()` to check against multiple values in a list.\n"
   ]
  },
  {
   "cell_type": "code",
   "execution_count": 11,
   "metadata": {},
   "outputs": [
    {
     "name": "stdout",
     "output_type": "stream",
     "text": [
      "Total number of restaurants in Queens with Grade C:  4\n"
     ]
    }
   ],
   "source": [
    "# Find all C Restaurants in QUEENS\n",
    "queens_grade_c = pizza_df[(pizza_df.GRADE == \"C\") & (pizza_df.BORO == \"QUEENS\")]\n",
    "print (\"Total number of restaurants in Queens with Grade C:  %d\" % queens_grade_c.shape[0])"
   ]
  },
  {
   "cell_type": "code",
   "execution_count": 12,
   "metadata": {},
   "outputs": [
    {
     "name": "stdout",
     "output_type": "stream",
     "text": [
      "Total number of Manhattan restaurants with a score <=2:  29\n"
     ]
    },
    {
     "data": {
      "text/html": [
       "<div>\n",
       "<table border=\"1\" class=\"dataframe\">\n",
       "  <thead>\n",
       "    <tr style=\"text-align: right;\">\n",
       "      <th></th>\n",
       "      <th>CAMIS</th>\n",
       "      <th>DBA</th>\n",
       "      <th>...</th>\n",
       "      <th>GRADE</th>\n",
       "      <th>GRADE DATE</th>\n",
       "    </tr>\n",
       "  </thead>\n",
       "  <tbody>\n",
       "    <tr>\n",
       "      <th>44</th>\n",
       "      <td>40395122</td>\n",
       "      <td>GINO'S PIZZERIA RESTAURANT</td>\n",
       "      <td>...</td>\n",
       "      <td>A</td>\n",
       "      <td>2017-02-22</td>\n",
       "    </tr>\n",
       "    <tr>\n",
       "      <th>87</th>\n",
       "      <td>40566489</td>\n",
       "      <td>PIZZA HUT</td>\n",
       "      <td>...</td>\n",
       "      <td>A</td>\n",
       "      <td>2016-09-30</td>\n",
       "    </tr>\n",
       "    <tr>\n",
       "      <th>134</th>\n",
       "      <td>40721285</td>\n",
       "      <td>DOMINO'S</td>\n",
       "      <td>...</td>\n",
       "      <td>A</td>\n",
       "      <td>2017-03-24</td>\n",
       "    </tr>\n",
       "    <tr>\n",
       "      <th>...</th>\n",
       "      <td>...</td>\n",
       "      <td>...</td>\n",
       "      <td>...</td>\n",
       "      <td>...</td>\n",
       "      <td>...</td>\n",
       "    </tr>\n",
       "    <tr>\n",
       "      <th>1122</th>\n",
       "      <td>50058564</td>\n",
       "      <td>DREAMERS PIZZA</td>\n",
       "      <td>...</td>\n",
       "      <td>A</td>\n",
       "      <td>2017-02-02</td>\n",
       "    </tr>\n",
       "    <tr>\n",
       "      <th>1133</th>\n",
       "      <td>50058921</td>\n",
       "      <td>PIERS PIZZA COMPANY</td>\n",
       "      <td>...</td>\n",
       "      <td>A</td>\n",
       "      <td>2017-03-22</td>\n",
       "    </tr>\n",
       "    <tr>\n",
       "      <th>1143</th>\n",
       "      <td>50059977</td>\n",
       "      <td>LUIGI'S PIZZA</td>\n",
       "      <td>...</td>\n",
       "      <td>A</td>\n",
       "      <td>2017-03-03</td>\n",
       "    </tr>\n",
       "  </tbody>\n",
       "</table>\n",
       "<p>29 rows × 10 columns</p>\n",
       "</div>"
      ],
      "text/plain": [
       "         CAMIS                         DBA     ...     GRADE  GRADE DATE\n",
       "44    40395122  GINO'S PIZZERIA RESTAURANT     ...         A  2017-02-22\n",
       "87    40566489                   PIZZA HUT     ...         A  2016-09-30\n",
       "134   40721285                    DOMINO'S     ...         A  2017-03-24\n",
       "...        ...                         ...     ...       ...         ...\n",
       "1122  50058564              DREAMERS PIZZA     ...         A  2017-02-02\n",
       "1133  50058921         PIERS PIZZA COMPANY     ...         A  2017-03-22\n",
       "1143  50059977               LUIGI'S PIZZA     ...         A  2017-03-03\n",
       "\n",
       "[29 rows x 10 columns]"
      ]
     },
     "execution_count": 12,
     "metadata": {},
     "output_type": "execute_result"
    }
   ],
   "source": [
    "# Find all Restaurants in Manhattan with a SCORE <= 2\n",
    "best_manhattan = pizza_df[(pizza_df.BORO == \"MANHATTAN\") & (pizza_df.SCORE <=2)]\n",
    "print (\"Total number of Manhattan restaurants with a score <=2:  %d\" % best_manhattan.shape[0])\n",
    "best_manhattan.head(100)"
   ]
  },
  {
   "cell_type": "code",
   "execution_count": 13,
   "metadata": {},
   "outputs": [
    {
     "name": "stdout",
     "output_type": "stream",
     "text": [
      "Total number of restaurants with B or C:  73\n"
     ]
    }
   ],
   "source": [
    "# Find all B and C Restaurants using isin()\n",
    "grades_b_c = pizza_df[pizza_df.GRADE.isin([\"B\", \"C\"])]\n",
    "print (\"Total number of restaurants with B or C:  %d\" % grades_b_c.shape[0])"
   ]
  },
  {
   "cell_type": "code",
   "execution_count": 14,
   "metadata": {},
   "outputs": [
    {
     "name": "stdout",
     "output_type": "stream",
     "text": [
      "Total number of restaurants with grades != B or C 1075\n"
     ]
    }
   ],
   "source": [
    "# Example of negating an isin() condition\n",
    "grades_b_c = pizza_df[~pizza_df.GRADE.isin([\"B\", \"C\"])]\n",
    "print (\"Total number of restaurants with grades != B or C %d\" % grades_b_c.shape[0])"
   ]
  },
  {
   "cell_type": "markdown",
   "metadata": {},
   "source": [
    "# Selecting Rows by String Values\n",
    "\n",
    "For background on all the many \"Ray's Original Pizza\", \"Famous Ray's Pizza\" and \"World-Famous Original Ray's Pizza\" restaurants in New York City, see [Wikipedia](https://en.wikipedia.org/wiki/Ray%27s_Pizza).\n",
    "\n",
    "To select by string values, you can:\n",
    "\n",
    "* Check for exact matches.\n",
    "* Use `str.contains` to match by substring.\n",
    "* Use `str.match` to match by regular expression.\n",
    "* Use `~` to negate the results."
   ]
  },
  {
   "cell_type": "markdown",
   "metadata": {},
   "source": [
    "## Exact String Match"
   ]
  },
  {
   "cell_type": "code",
   "execution_count": 15,
   "metadata": {},
   "outputs": [
    {
     "data": {
      "text/html": [
       "<div>\n",
       "<table border=\"1\" class=\"dataframe\">\n",
       "  <thead>\n",
       "    <tr style=\"text-align: right;\">\n",
       "      <th></th>\n",
       "      <th>CAMIS</th>\n",
       "      <th>DBA</th>\n",
       "      <th>...</th>\n",
       "      <th>GRADE</th>\n",
       "      <th>GRADE DATE</th>\n",
       "    </tr>\n",
       "  </thead>\n",
       "  <tbody>\n",
       "    <tr>\n",
       "      <th>24</th>\n",
       "      <td>40385873</td>\n",
       "      <td>RAY'S PIZZA</td>\n",
       "      <td>...</td>\n",
       "      <td>A</td>\n",
       "      <td>2016-07-27</td>\n",
       "    </tr>\n",
       "    <tr>\n",
       "      <th>483</th>\n",
       "      <td>41456879</td>\n",
       "      <td>RAY'S PIZZA</td>\n",
       "      <td>...</td>\n",
       "      <td>A</td>\n",
       "      <td>2016-07-26</td>\n",
       "    </tr>\n",
       "  </tbody>\n",
       "</table>\n",
       "<p>2 rows × 10 columns</p>\n",
       "</div>"
      ],
      "text/plain": [
       "        CAMIS          DBA     ...     GRADE  GRADE DATE\n",
       "24   40385873  RAY'S PIZZA     ...         A  2016-07-27\n",
       "483  41456879  RAY'S PIZZA     ...         A  2016-07-26\n",
       "\n",
       "[2 rows x 10 columns]"
      ]
     },
     "execution_count": 15,
     "metadata": {},
     "output_type": "execute_result"
    }
   ],
   "source": [
    "# Find out how many RAY'S PIZZA Restaurants are in NYC (extact string match)\n",
    "rays_df = pizza_df[pizza_df.DBA == \"RAY'S PIZZA\"]\n",
    "rays_df"
   ]
  },
  {
   "cell_type": "markdown",
   "metadata": {},
   "source": [
    "## Substring Match"
   ]
  },
  {
   "cell_type": "code",
   "execution_count": 16,
   "metadata": {},
   "outputs": [
    {
     "name": "stdout",
     "output_type": "stream",
     "text": [
      "Total number of restaurants that contain the term RAY'S  6\n"
     ]
    },
    {
     "data": {
      "text/html": [
       "<div>\n",
       "<table border=\"1\" class=\"dataframe\">\n",
       "  <thead>\n",
       "    <tr style=\"text-align: right;\">\n",
       "      <th></th>\n",
       "      <th>CAMIS</th>\n",
       "      <th>DBA</th>\n",
       "      <th>...</th>\n",
       "      <th>GRADE</th>\n",
       "      <th>GRADE DATE</th>\n",
       "    </tr>\n",
       "  </thead>\n",
       "  <tbody>\n",
       "    <tr>\n",
       "      <th>24</th>\n",
       "      <td>40385873</td>\n",
       "      <td>RAY'S PIZZA</td>\n",
       "      <td>...</td>\n",
       "      <td>A</td>\n",
       "      <td>2016-07-27</td>\n",
       "    </tr>\n",
       "    <tr>\n",
       "      <th>81</th>\n",
       "      <td>40548730</td>\n",
       "      <td>RAY'S PIZZA RESTUARANT</td>\n",
       "      <td>...</td>\n",
       "      <td>A</td>\n",
       "      <td>2017-04-10</td>\n",
       "    </tr>\n",
       "    <tr>\n",
       "      <th>215</th>\n",
       "      <td>40918997</td>\n",
       "      <td>FAMOUS RAY'S PIZZA</td>\n",
       "      <td>...</td>\n",
       "      <td>A</td>\n",
       "      <td>2016-10-20</td>\n",
       "    </tr>\n",
       "    <tr>\n",
       "      <th>271</th>\n",
       "      <td>41078099</td>\n",
       "      <td>ORIGINAL RAY'S PIZZA</td>\n",
       "      <td>...</td>\n",
       "      <td>A</td>\n",
       "      <td>2016-03-31</td>\n",
       "    </tr>\n",
       "    <tr>\n",
       "      <th>279</th>\n",
       "      <td>41113339</td>\n",
       "      <td>FAMOUS ORIGINAL RAY'S PIZZA</td>\n",
       "      <td>...</td>\n",
       "      <td>A</td>\n",
       "      <td>2017-03-03</td>\n",
       "    </tr>\n",
       "    <tr>\n",
       "      <th>483</th>\n",
       "      <td>41456879</td>\n",
       "      <td>RAY'S PIZZA</td>\n",
       "      <td>...</td>\n",
       "      <td>A</td>\n",
       "      <td>2016-07-26</td>\n",
       "    </tr>\n",
       "  </tbody>\n",
       "</table>\n",
       "<p>6 rows × 10 columns</p>\n",
       "</div>"
      ],
      "text/plain": [
       "        CAMIS                          DBA     ...     GRADE  GRADE DATE\n",
       "24   40385873                  RAY'S PIZZA     ...         A  2016-07-27\n",
       "81   40548730       RAY'S PIZZA RESTUARANT     ...         A  2017-04-10\n",
       "215  40918997           FAMOUS RAY'S PIZZA     ...         A  2016-10-20\n",
       "271  41078099         ORIGINAL RAY'S PIZZA     ...         A  2016-03-31\n",
       "279  41113339  FAMOUS ORIGINAL RAY'S PIZZA     ...         A  2017-03-03\n",
       "483  41456879                  RAY'S PIZZA     ...         A  2016-07-26\n",
       "\n",
       "[6 rows x 10 columns]"
      ]
     },
     "execution_count": 16,
     "metadata": {},
     "output_type": "execute_result"
    }
   ],
   "source": [
    "# Find out how many restaurants contain the term \"RAY'S\"\n",
    "rays_df = pizza_df[pizza_df.DBA.str.contains(\"RAY'S\")]\n",
    "print (\"Total number of restaurants that contain the term RAY'S  %d\" % rays_df.shape[0])\n",
    "rays_df"
   ]
  },
  {
   "cell_type": "markdown",
   "metadata": {},
   "source": [
    "## Regular Expression Match"
   ]
  },
  {
   "cell_type": "code",
   "execution_count": 17,
   "metadata": {},
   "outputs": [
    {
     "data": {
      "text/html": [
       "<div>\n",
       "<table border=\"1\" class=\"dataframe\">\n",
       "  <thead>\n",
       "    <tr style=\"text-align: right;\">\n",
       "      <th></th>\n",
       "      <th>CAMIS</th>\n",
       "      <th>DBA</th>\n",
       "      <th>...</th>\n",
       "      <th>GRADE</th>\n",
       "      <th>GRADE DATE</th>\n",
       "    </tr>\n",
       "  </thead>\n",
       "  <tbody>\n",
       "    <tr>\n",
       "      <th>24</th>\n",
       "      <td>40385873</td>\n",
       "      <td>RAY'S PIZZA</td>\n",
       "      <td>...</td>\n",
       "      <td>A</td>\n",
       "      <td>2016-07-27</td>\n",
       "    </tr>\n",
       "    <tr>\n",
       "      <th>81</th>\n",
       "      <td>40548730</td>\n",
       "      <td>RAY'S PIZZA RESTUARANT</td>\n",
       "      <td>...</td>\n",
       "      <td>A</td>\n",
       "      <td>2017-04-10</td>\n",
       "    </tr>\n",
       "    <tr>\n",
       "      <th>215</th>\n",
       "      <td>40918997</td>\n",
       "      <td>FAMOUS RAY'S PIZZA</td>\n",
       "      <td>...</td>\n",
       "      <td>A</td>\n",
       "      <td>2016-10-20</td>\n",
       "    </tr>\n",
       "    <tr>\n",
       "      <th>...</th>\n",
       "      <td>...</td>\n",
       "      <td>...</td>\n",
       "      <td>...</td>\n",
       "      <td>...</td>\n",
       "      <td>...</td>\n",
       "    </tr>\n",
       "    <tr>\n",
       "      <th>279</th>\n",
       "      <td>41113339</td>\n",
       "      <td>FAMOUS ORIGINAL RAY'S PIZZA</td>\n",
       "      <td>...</td>\n",
       "      <td>A</td>\n",
       "      <td>2017-03-03</td>\n",
       "    </tr>\n",
       "    <tr>\n",
       "      <th>483</th>\n",
       "      <td>41456879</td>\n",
       "      <td>RAY'S PIZZA</td>\n",
       "      <td>...</td>\n",
       "      <td>A</td>\n",
       "      <td>2016-07-26</td>\n",
       "    </tr>\n",
       "    <tr>\n",
       "      <th>749</th>\n",
       "      <td>50006691</td>\n",
       "      <td>REYS PIZZERIA &amp; RERSTAURANT</td>\n",
       "      <td>...</td>\n",
       "      <td>Z</td>\n",
       "      <td>2017-04-05</td>\n",
       "    </tr>\n",
       "  </tbody>\n",
       "</table>\n",
       "<p>7 rows × 10 columns</p>\n",
       "</div>"
      ],
      "text/plain": [
       "        CAMIS                          DBA     ...     GRADE  GRADE DATE\n",
       "24   40385873                  RAY'S PIZZA     ...         A  2016-07-27\n",
       "81   40548730       RAY'S PIZZA RESTUARANT     ...         A  2017-04-10\n",
       "215  40918997           FAMOUS RAY'S PIZZA     ...         A  2016-10-20\n",
       "..        ...                          ...     ...       ...         ...\n",
       "279  41113339  FAMOUS ORIGINAL RAY'S PIZZA     ...         A  2017-03-03\n",
       "483  41456879                  RAY'S PIZZA     ...         A  2016-07-26\n",
       "749  50006691  REYS PIZZERIA & RERSTAURANT     ...         Z  2017-04-05\n",
       "\n",
       "[7 rows x 10 columns]"
      ]
     },
     "execution_count": 17,
     "metadata": {},
     "output_type": "execute_result"
    }
   ],
   "source": [
    "# Find out how many restaurants contain the term: RAY or REY\n",
    "rays_df = pizza_df[pizza_df.DBA.str.match(\".*R[A|E]Y\")]\n",
    "rays_df.head(10)"
   ]
  },
  {
   "cell_type": "code",
   "execution_count": 18,
   "metadata": {},
   "outputs": [
    {
     "data": {
      "text/html": [
       "<div>\n",
       "<table border=\"1\" class=\"dataframe\">\n",
       "  <thead>\n",
       "    <tr style=\"text-align: right;\">\n",
       "      <th></th>\n",
       "      <th>CAMIS</th>\n",
       "      <th>DBA</th>\n",
       "      <th>...</th>\n",
       "      <th>GRADE</th>\n",
       "      <th>GRADE DATE</th>\n",
       "    </tr>\n",
       "  </thead>\n",
       "  <tbody>\n",
       "    <tr>\n",
       "      <th>0</th>\n",
       "      <td>40363644</td>\n",
       "      <td>DOMINO'S</td>\n",
       "      <td>...</td>\n",
       "      <td>A</td>\n",
       "      <td>2017-03-30</td>\n",
       "    </tr>\n",
       "    <tr>\n",
       "      <th>1</th>\n",
       "      <td>40363945</td>\n",
       "      <td>DOMINO'S</td>\n",
       "      <td>...</td>\n",
       "      <td>A</td>\n",
       "      <td>2017-03-02</td>\n",
       "    </tr>\n",
       "    <tr>\n",
       "      <th>2</th>\n",
       "      <td>40364920</td>\n",
       "      <td>RIZZO'S FINE PIZZA</td>\n",
       "      <td>...</td>\n",
       "      <td>A</td>\n",
       "      <td>2016-11-03</td>\n",
       "    </tr>\n",
       "    <tr>\n",
       "      <th>...</th>\n",
       "      <td>...</td>\n",
       "      <td>...</td>\n",
       "      <td>...</td>\n",
       "      <td>...</td>\n",
       "      <td>...</td>\n",
       "    </tr>\n",
       "    <tr>\n",
       "      <th>7</th>\n",
       "      <td>40367789</td>\n",
       "      <td>DANI PIZZA AND RESTAURANT</td>\n",
       "      <td>...</td>\n",
       "      <td>A</td>\n",
       "      <td>2016-12-08</td>\n",
       "    </tr>\n",
       "    <tr>\n",
       "      <th>8</th>\n",
       "      <td>40369262</td>\n",
       "      <td>JOHN'S PIZZERIA</td>\n",
       "      <td>...</td>\n",
       "      <td>A</td>\n",
       "      <td>2016-07-13</td>\n",
       "    </tr>\n",
       "    <tr>\n",
       "      <th>9</th>\n",
       "      <td>40369482</td>\n",
       "      <td>ARMANDO'S PIZZA</td>\n",
       "      <td>...</td>\n",
       "      <td>A</td>\n",
       "      <td>2017-03-17</td>\n",
       "    </tr>\n",
       "  </tbody>\n",
       "</table>\n",
       "<p>10 rows × 10 columns</p>\n",
       "</div>"
      ],
      "text/plain": [
       "       CAMIS                        DBA     ...     GRADE  GRADE DATE\n",
       "0   40363644                   DOMINO'S     ...         A  2017-03-30\n",
       "1   40363945                   DOMINO'S     ...         A  2017-03-02\n",
       "2   40364920         RIZZO'S FINE PIZZA     ...         A  2016-11-03\n",
       "..       ...                        ...     ...       ...         ...\n",
       "7   40367789  DANI PIZZA AND RESTAURANT     ...         A  2016-12-08\n",
       "8   40369262            JOHN'S PIZZERIA     ...         A  2016-07-13\n",
       "9   40369482            ARMANDO'S PIZZA     ...         A  2017-03-17\n",
       "\n",
       "[10 rows x 10 columns]"
      ]
     },
     "execution_count": 18,
     "metadata": {},
     "output_type": "execute_result"
    }
   ],
   "source": [
    "# Example of Negating a Regular Expression\n",
    "rays_df = pizza_df[~pizza_df.DBA.str.match(\".*R[A|E]Y\")]\n",
    "rays_df.head(10)"
   ]
  }
 ],
 "metadata": {
  "kernelspec": {
   "display_name": "Python 2",
   "language": "python",
   "name": "python2"
  },
  "language_info": {
   "codemirror_mode": {
    "name": "ipython",
    "version": 2
   },
   "file_extension": ".py",
   "mimetype": "text/x-python",
   "name": "python",
   "nbconvert_exporter": "python",
   "pygments_lexer": "ipython2",
   "version": "2.7.11"
  }
 },
 "nbformat": 4,
 "nbformat_minor": 2
}
