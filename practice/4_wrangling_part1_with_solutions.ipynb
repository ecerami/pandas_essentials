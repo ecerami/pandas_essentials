{
 "cells": [
  {
   "cell_type": "markdown",
   "metadata": {},
   "source": [
    "# Pandas Essentials:  Data Wrangling\n",
    "\n",
    "The notebook exercises below provide practice in basic data wrangling. We focus on the NYC Pizza Inspection Data Set."
   ]
  },
  {
   "cell_type": "code",
   "execution_count": 1,
   "metadata": {
    "collapsed": true
   },
   "outputs": [],
   "source": [
    "import pandas as pd\n",
    "\n",
    "# Set max display columns and rows\n",
    "pd.options.display.max_columns = 10\n",
    "pd.options.display.max_rows = 10"
   ]
  },
  {
   "cell_type": "markdown",
   "metadata": {},
   "source": [
    "# Loading the \"Corrupted\" NYC Pizza Inspection Data Set"
   ]
  },
  {
   "cell_type": "markdown",
   "metadata": {},
   "source": [
    "In the cell below, load the \"NYC_Pizza_2017_corrupted.csv\" data set into a new data frame called `pizza_df`.  This is a file that I have manually corrupted to illustrate a number of key concepts."
   ]
  },
  {
   "cell_type": "code",
   "execution_count": 2,
   "metadata": {
    "collapsed": true
   },
   "outputs": [],
   "source": [
    "pizza_df = pd.read_csv(\"../data/NYC_Pizza_2017_corrupted.csv\")"
   ]
  },
  {
   "cell_type": "markdown",
   "metadata": {},
   "source": [
    "In the cell below, take a peek at the `pizza_df` data frame."
   ]
  },
  {
   "cell_type": "code",
   "execution_count": 3,
   "metadata": {},
   "outputs": [
    {
     "data": {
      "text/html": [
       "<div>\n",
       "<table border=\"1\" class=\"dataframe\">\n",
       "  <thead>\n",
       "    <tr style=\"text-align: right;\">\n",
       "      <th></th>\n",
       "      <th>CAMIS</th>\n",
       "      <th>DBA</th>\n",
       "      <th>BORO</th>\n",
       "      <th>BUILDING</th>\n",
       "      <th>STREET</th>\n",
       "      <th>ZIPCODE</th>\n",
       "      <th>CUISINE DESCRIPTION</th>\n",
       "      <th>SCORE</th>\n",
       "      <th>GRADE</th>\n",
       "      <th>GRADE DATE</th>\n",
       "    </tr>\n",
       "  </thead>\n",
       "  <tbody>\n",
       "    <tr>\n",
       "      <th>0</th>\n",
       "      <td>40363644.0</td>\n",
       "      <td>DOMINO'S</td>\n",
       "      <td>MANHATTAN</td>\n",
       "      <td>464</td>\n",
       "      <td>3 AVENUE</td>\n",
       "      <td>10016.0</td>\n",
       "      <td>Pizza</td>\n",
       "      <td>4.0</td>\n",
       "      <td>A</td>\n",
       "      <td>2017-03-30</td>\n",
       "    </tr>\n",
       "    <tr>\n",
       "      <th>1</th>\n",
       "      <td>40363945.0</td>\n",
       "      <td>DOMINO'S</td>\n",
       "      <td>MANHATTAN</td>\n",
       "      <td>148</td>\n",
       "      <td>WEST   72 STREET</td>\n",
       "      <td>10023.0</td>\n",
       "      <td>Pizza</td>\n",
       "      <td>12.0</td>\n",
       "      <td>A</td>\n",
       "      <td>2017-03-02</td>\n",
       "    </tr>\n",
       "    <tr>\n",
       "      <th>2</th>\n",
       "      <td>40364920.0</td>\n",
       "      <td>RIZZO'S FINE PIZZA</td>\n",
       "      <td>QUEENS</td>\n",
       "      <td>3013</td>\n",
       "      <td>STEINWAY STREET</td>\n",
       "      <td>11103.0</td>\n",
       "      <td>Pizza</td>\n",
       "      <td>12.0</td>\n",
       "      <td>A</td>\n",
       "      <td>2016-11-03</td>\n",
       "    </tr>\n",
       "    <tr>\n",
       "      <th>3</th>\n",
       "      <td>NaN</td>\n",
       "      <td>NaN</td>\n",
       "      <td>NaN</td>\n",
       "      <td>NaN</td>\n",
       "      <td>NaN</td>\n",
       "      <td>NaN</td>\n",
       "      <td>NaN</td>\n",
       "      <td>NaN</td>\n",
       "      <td>NaN</td>\n",
       "      <td>NaN</td>\n",
       "    </tr>\n",
       "    <tr>\n",
       "      <th>4</th>\n",
       "      <td>40365280.0</td>\n",
       "      <td>COMO PIZZA</td>\n",
       "      <td>MANHATTAN</td>\n",
       "      <td>4035</td>\n",
       "      <td>BROADWAY</td>\n",
       "      <td>10032.0</td>\n",
       "      <td>Pizza</td>\n",
       "      <td>10.0</td>\n",
       "      <td>A</td>\n",
       "      <td>2016-08-29</td>\n",
       "    </tr>\n",
       "  </tbody>\n",
       "</table>\n",
       "</div>"
      ],
      "text/plain": [
       "        CAMIS                 DBA       BORO BUILDING            STREET  \\\n",
       "0  40363644.0            DOMINO'S  MANHATTAN      464          3 AVENUE   \n",
       "1  40363945.0            DOMINO'S  MANHATTAN      148  WEST   72 STREET   \n",
       "2  40364920.0  RIZZO'S FINE PIZZA     QUEENS     3013   STEINWAY STREET   \n",
       "3         NaN                 NaN        NaN      NaN               NaN   \n",
       "4  40365280.0          COMO PIZZA  MANHATTAN     4035          BROADWAY   \n",
       "\n",
       "   ZIPCODE CUISINE DESCRIPTION  SCORE GRADE  GRADE DATE  \n",
       "0  10016.0               Pizza    4.0     A  2017-03-30  \n",
       "1  10023.0               Pizza   12.0     A  2017-03-02  \n",
       "2  11103.0               Pizza   12.0     A  2016-11-03  \n",
       "3      NaN                 NaN    NaN   NaN         NaN  \n",
       "4  10032.0               Pizza   10.0     A  2016-08-29  "
      ]
     },
     "execution_count": 3,
     "metadata": {},
     "output_type": "execute_result"
    }
   ],
   "source": [
    "pizza_df.head()"
   ]
  },
  {
   "cell_type": "markdown",
   "metadata": {},
   "source": [
    "In the cell below, output the data types associated with all columns in the `pizza_df` data frame."
   ]
  },
  {
   "cell_type": "code",
   "execution_count": 4,
   "metadata": {},
   "outputs": [
    {
     "name": "stdout",
     "output_type": "stream",
     "text": [
      "<class 'pandas.core.frame.DataFrame'>\n",
      "RangeIndex: 1151 entries, 0 to 1150\n",
      "Data columns (total 10 columns):\n",
      "CAMIS                  1149 non-null float64\n",
      "DBA                    1149 non-null object\n",
      "BORO                   1147 non-null object\n",
      "BUILDING               1149 non-null object\n",
      "STREET                 1149 non-null object\n",
      "ZIPCODE                1149 non-null float64\n",
      "CUISINE DESCRIPTION    1149 non-null object\n",
      "SCORE                  1147 non-null float64\n",
      "GRADE                  1147 non-null object\n",
      "GRADE DATE             1149 non-null object\n",
      "dtypes: float64(3), object(7)\n",
      "memory usage: 90.0+ KB\n"
     ]
    }
   ],
   "source": [
    "pizza_df.info()"
   ]
  },
  {
   "cell_type": "markdown",
   "metadata": {},
   "source": [
    "# Transforming Data Types"
   ]
  },
  {
   "cell_type": "markdown",
   "metadata": {},
   "source": [
    "In the cell below, transform the GRADE DATE column to a DateTime object."
   ]
  },
  {
   "cell_type": "code",
   "execution_count": 5,
   "metadata": {
    "collapsed": true
   },
   "outputs": [],
   "source": [
    "pizza_df[\"GRADE DATE\"] = pd.to_datetime(pizza_df[\"GRADE DATE\"])"
   ]
  },
  {
   "cell_type": "markdown",
   "metadata": {},
   "source": [
    "The CAMIS data column currently contains values such as:\n",
    "\n",
    "* 40363644.0\n",
    "* 40363945.0\n",
    "\n",
    "In the cell below, transform the CAMIS column to a String, and remove the trailing .0's from each string.  Your output should look like:\n",
    "\n",
    "* 40363644\n",
    "* 40363945\n",
    "\n",
    "Hint:  you will need to call `astype()` followed by `str.replace`."
   ]
  },
  {
   "cell_type": "code",
   "execution_count": 6,
   "metadata": {
    "collapsed": true
   },
   "outputs": [],
   "source": [
    "pizza_df[\"CAMIS\"] = pizza_df[\"CAMIS\"].astype(str).str.replace(\"\\.0\", \"\")"
   ]
  },
  {
   "cell_type": "markdown",
   "metadata": {},
   "source": [
    "In the cell below, transform the ZIPCODE column to a String, and remove the trailing .0's from each string."
   ]
  },
  {
   "cell_type": "code",
   "execution_count": 7,
   "metadata": {
    "collapsed": true
   },
   "outputs": [],
   "source": [
    "pizza_df[\"ZIPCODE\"] = pizza_df[\"ZIPCODE\"].astype(str).str.replace(\"\\.0\", \"\")"
   ]
  },
  {
   "cell_type": "markdown",
   "metadata": {},
   "source": [
    "In the cell below, output the data types again, to verify that your changes have taken effect."
   ]
  },
  {
   "cell_type": "code",
   "execution_count": 8,
   "metadata": {},
   "outputs": [
    {
     "name": "stdout",
     "output_type": "stream",
     "text": [
      "<class 'pandas.core.frame.DataFrame'>\n",
      "RangeIndex: 1151 entries, 0 to 1150\n",
      "Data columns (total 10 columns):\n",
      "CAMIS                  1151 non-null object\n",
      "DBA                    1149 non-null object\n",
      "BORO                   1147 non-null object\n",
      "BUILDING               1149 non-null object\n",
      "STREET                 1149 non-null object\n",
      "ZIPCODE                1151 non-null object\n",
      "CUISINE DESCRIPTION    1149 non-null object\n",
      "SCORE                  1147 non-null float64\n",
      "GRADE                  1147 non-null object\n",
      "GRADE DATE             1149 non-null datetime64[ns]\n",
      "dtypes: datetime64[ns](1), float64(1), object(8)\n",
      "memory usage: 90.0+ KB\n"
     ]
    }
   ],
   "source": [
    "pizza_df.info()"
   ]
  },
  {
   "cell_type": "markdown",
   "metadata": {},
   "source": [
    "In the cell below, peak at your data frame to verify that the changes have taken effect."
   ]
  },
  {
   "cell_type": "code",
   "execution_count": 9,
   "metadata": {},
   "outputs": [
    {
     "data": {
      "text/html": [
       "<div>\n",
       "<table border=\"1\" class=\"dataframe\">\n",
       "  <thead>\n",
       "    <tr style=\"text-align: right;\">\n",
       "      <th></th>\n",
       "      <th>CAMIS</th>\n",
       "      <th>DBA</th>\n",
       "      <th>BORO</th>\n",
       "      <th>BUILDING</th>\n",
       "      <th>STREET</th>\n",
       "      <th>ZIPCODE</th>\n",
       "      <th>CUISINE DESCRIPTION</th>\n",
       "      <th>SCORE</th>\n",
       "      <th>GRADE</th>\n",
       "      <th>GRADE DATE</th>\n",
       "    </tr>\n",
       "  </thead>\n",
       "  <tbody>\n",
       "    <tr>\n",
       "      <th>0</th>\n",
       "      <td>40363644</td>\n",
       "      <td>DOMINO'S</td>\n",
       "      <td>MANHATTAN</td>\n",
       "      <td>464</td>\n",
       "      <td>3 AVENUE</td>\n",
       "      <td>10016</td>\n",
       "      <td>Pizza</td>\n",
       "      <td>4.0</td>\n",
       "      <td>A</td>\n",
       "      <td>2017-03-30</td>\n",
       "    </tr>\n",
       "    <tr>\n",
       "      <th>1</th>\n",
       "      <td>40363945</td>\n",
       "      <td>DOMINO'S</td>\n",
       "      <td>MANHATTAN</td>\n",
       "      <td>148</td>\n",
       "      <td>WEST   72 STREET</td>\n",
       "      <td>10023</td>\n",
       "      <td>Pizza</td>\n",
       "      <td>12.0</td>\n",
       "      <td>A</td>\n",
       "      <td>2017-03-02</td>\n",
       "    </tr>\n",
       "    <tr>\n",
       "      <th>2</th>\n",
       "      <td>40364920</td>\n",
       "      <td>RIZZO'S FINE PIZZA</td>\n",
       "      <td>QUEENS</td>\n",
       "      <td>3013</td>\n",
       "      <td>STEINWAY STREET</td>\n",
       "      <td>11103</td>\n",
       "      <td>Pizza</td>\n",
       "      <td>12.0</td>\n",
       "      <td>A</td>\n",
       "      <td>2016-11-03</td>\n",
       "    </tr>\n",
       "    <tr>\n",
       "      <th>3</th>\n",
       "      <td>nan</td>\n",
       "      <td>NaN</td>\n",
       "      <td>NaN</td>\n",
       "      <td>NaN</td>\n",
       "      <td>NaN</td>\n",
       "      <td>nan</td>\n",
       "      <td>NaN</td>\n",
       "      <td>NaN</td>\n",
       "      <td>NaN</td>\n",
       "      <td>NaT</td>\n",
       "    </tr>\n",
       "    <tr>\n",
       "      <th>4</th>\n",
       "      <td>40365280</td>\n",
       "      <td>COMO PIZZA</td>\n",
       "      <td>MANHATTAN</td>\n",
       "      <td>4035</td>\n",
       "      <td>BROADWAY</td>\n",
       "      <td>10032</td>\n",
       "      <td>Pizza</td>\n",
       "      <td>10.0</td>\n",
       "      <td>A</td>\n",
       "      <td>2016-08-29</td>\n",
       "    </tr>\n",
       "  </tbody>\n",
       "</table>\n",
       "</div>"
      ],
      "text/plain": [
       "      CAMIS                 DBA       BORO BUILDING            STREET ZIPCODE  \\\n",
       "0  40363644            DOMINO'S  MANHATTAN      464          3 AVENUE   10016   \n",
       "1  40363945            DOMINO'S  MANHATTAN      148  WEST   72 STREET   10023   \n",
       "2  40364920  RIZZO'S FINE PIZZA     QUEENS     3013   STEINWAY STREET   11103   \n",
       "3       nan                 NaN        NaN      NaN               NaN     nan   \n",
       "4  40365280          COMO PIZZA  MANHATTAN     4035          BROADWAY   10032   \n",
       "\n",
       "  CUISINE DESCRIPTION  SCORE GRADE GRADE DATE  \n",
       "0               Pizza    4.0     A 2017-03-30  \n",
       "1               Pizza   12.0     A 2017-03-02  \n",
       "2               Pizza   12.0     A 2016-11-03  \n",
       "3                 NaN    NaN   NaN        NaT  \n",
       "4               Pizza   10.0     A 2016-08-29  "
      ]
     },
     "execution_count": 9,
     "metadata": {},
     "output_type": "execute_result"
    }
   ],
   "source": [
    "pizza_df.head()"
   ]
  },
  {
   "cell_type": "markdown",
   "metadata": {},
   "source": [
    "# Dropping Columns"
   ]
  },
  {
   "cell_type": "markdown",
   "metadata": {},
   "source": [
    "In the cell below, drop the BUILDING and STREET columns."
   ]
  },
  {
   "cell_type": "code",
   "execution_count": 10,
   "metadata": {
    "collapsed": true
   },
   "outputs": [],
   "source": [
    "pizza_df.drop(labels=[\"BUILDING\", \"STREET\"], axis=\"columns\", inplace=True)"
   ]
  },
  {
   "cell_type": "markdown",
   "metadata": {
    "collapsed": true
   },
   "source": [
    "# Renaming columns"
   ]
  },
  {
   "cell_type": "markdown",
   "metadata": {},
   "source": [
    "In the cell below, change all spaces to underscore in all column names."
   ]
  },
  {
   "cell_type": "code",
   "execution_count": 22,
   "metadata": {},
   "outputs": [],
   "source": [
    "pizza_df.columns = pizza_df.columns.str.replace(\" \", \"_\")"
   ]
  },
  {
   "cell_type": "markdown",
   "metadata": {},
   "source": [
    "In the cell below, verify that your columns name changes have taken effect."
   ]
  },
  {
   "cell_type": "code",
   "execution_count": 21,
   "metadata": {},
   "outputs": [
    {
     "data": {
      "text/plain": [
       "Index([u'CAMIS', u'DBA', u'BORO', u'ZIPCODE', u'CUISINE_DESCRIPTION', u'SCORE',\n",
       "       u'GRADE', u'GRADE_DATE'],\n",
       "      dtype='object')"
      ]
     },
     "execution_count": 21,
     "metadata": {},
     "output_type": "execute_result"
    }
   ],
   "source": [
    "pizza_df.columns"
   ]
  },
  {
   "cell_type": "markdown",
   "metadata": {},
   "source": [
    "# Dealing with NA Values"
   ]
  },
  {
   "cell_type": "markdown",
   "metadata": {},
   "source": [
    "Using one line of code, determine the number of NA values in each column.  [You should see, for example that BORO is missing in 4 records]."
   ]
  },
  {
   "cell_type": "code",
   "execution_count": 12,
   "metadata": {},
   "outputs": [
    {
     "data": {
      "text/plain": [
       "CAMIS                  0\n",
       "DBA                    2\n",
       "BORO                   4\n",
       "ZIPCODE                0\n",
       "CUISINE_DESCRIPTION    2\n",
       "SCORE                  4\n",
       "GRADE                  4\n",
       "GRADE_DATE             2\n",
       "dtype: int64"
      ]
     },
     "execution_count": 12,
     "metadata": {},
     "output_type": "execute_result"
    }
   ],
   "source": [
    "pizza_df.isnull().sum()"
   ]
  },
  {
   "cell_type": "markdown",
   "metadata": {},
   "source": [
    "Using one line of code, output all rows where BORO is missing."
   ]
  },
  {
   "cell_type": "code",
   "execution_count": 13,
   "metadata": {},
   "outputs": [
    {
     "data": {
      "text/html": [
       "<div>\n",
       "<table border=\"1\" class=\"dataframe\">\n",
       "  <thead>\n",
       "    <tr style=\"text-align: right;\">\n",
       "      <th></th>\n",
       "      <th>CAMIS</th>\n",
       "      <th>DBA</th>\n",
       "      <th>BORO</th>\n",
       "      <th>ZIPCODE</th>\n",
       "      <th>CUISINE_DESCRIPTION</th>\n",
       "      <th>SCORE</th>\n",
       "      <th>GRADE</th>\n",
       "      <th>GRADE_DATE</th>\n",
       "    </tr>\n",
       "  </thead>\n",
       "  <tbody>\n",
       "    <tr>\n",
       "      <th>3</th>\n",
       "      <td>nan</td>\n",
       "      <td>NaN</td>\n",
       "      <td>NaN</td>\n",
       "      <td>nan</td>\n",
       "      <td>NaN</td>\n",
       "      <td>NaN</td>\n",
       "      <td>NaN</td>\n",
       "      <td>NaT</td>\n",
       "    </tr>\n",
       "    <tr>\n",
       "      <th>9</th>\n",
       "      <td>nan</td>\n",
       "      <td>NaN</td>\n",
       "      <td>NaN</td>\n",
       "      <td>nan</td>\n",
       "      <td>NaN</td>\n",
       "      <td>NaN</td>\n",
       "      <td>NaN</td>\n",
       "      <td>NaT</td>\n",
       "    </tr>\n",
       "    <tr>\n",
       "      <th>11</th>\n",
       "      <td>40369482</td>\n",
       "      <td>ARMANDO'S PIZZA</td>\n",
       "      <td>NaN</td>\n",
       "      <td>11239</td>\n",
       "      <td>Pizza</td>\n",
       "      <td>13.0</td>\n",
       "      <td>A</td>\n",
       "      <td>2017-03-17</td>\n",
       "    </tr>\n",
       "    <tr>\n",
       "      <th>12</th>\n",
       "      <td>40372631</td>\n",
       "      <td>YANKEE JZ PIZZA</td>\n",
       "      <td>NaN</td>\n",
       "      <td>10472</td>\n",
       "      <td>Pizza</td>\n",
       "      <td>12.0</td>\n",
       "      <td>A</td>\n",
       "      <td>2016-12-20</td>\n",
       "    </tr>\n",
       "  </tbody>\n",
       "</table>\n",
       "</div>"
      ],
      "text/plain": [
       "       CAMIS              DBA BORO ZIPCODE CUISINE_DESCRIPTION  SCORE GRADE  \\\n",
       "3        nan              NaN  NaN     nan                 NaN    NaN   NaN   \n",
       "9        nan              NaN  NaN     nan                 NaN    NaN   NaN   \n",
       "11  40369482  ARMANDO'S PIZZA  NaN   11239               Pizza   13.0     A   \n",
       "12  40372631  YANKEE JZ PIZZA  NaN   10472               Pizza   12.0     A   \n",
       "\n",
       "   GRADE_DATE  \n",
       "3         NaT  \n",
       "9         NaT  \n",
       "11 2017-03-17  \n",
       "12 2016-12-20  "
      ]
     },
     "execution_count": 13,
     "metadata": {},
     "output_type": "execute_result"
    }
   ],
   "source": [
    "pizza_df[pizza_df.BORO.isnull()]"
   ]
  },
  {
   "cell_type": "markdown",
   "metadata": {},
   "source": [
    "How many rows are in your data frame?"
   ]
  },
  {
   "cell_type": "code",
   "execution_count": 23,
   "metadata": {},
   "outputs": [
    {
     "data": {
      "text/plain": [
       "1142"
      ]
     },
     "execution_count": 23,
     "metadata": {},
     "output_type": "execute_result"
    }
   ],
   "source": [
    "pizza_df.shape[0]"
   ]
  },
  {
   "cell_type": "markdown",
   "metadata": {},
   "source": [
    "Using one line of code, drop all rows that contain 1 or more NAs."
   ]
  },
  {
   "cell_type": "code",
   "execution_count": 15,
   "metadata": {},
   "outputs": [],
   "source": [
    "pizza_df.dropna(how=\"any\", inplace=True)"
   ]
  },
  {
   "cell_type": "markdown",
   "metadata": {},
   "source": [
    "How big is your data frame now?"
   ]
  },
  {
   "cell_type": "code",
   "execution_count": 24,
   "metadata": {},
   "outputs": [
    {
     "data": {
      "text/plain": [
       "1142"
      ]
     },
     "execution_count": 24,
     "metadata": {},
     "output_type": "execute_result"
    }
   ],
   "source": [
    "pizza_df.shape[0]"
   ]
  },
  {
   "cell_type": "markdown",
   "metadata": {},
   "source": [
    "# Dealing with Duplicate Records"
   ]
  },
  {
   "cell_type": "markdown",
   "metadata": {},
   "source": [
    "Does your data frame contain any duplicate records? [Answer = Yes, 1 duplicate record]"
   ]
  },
  {
   "cell_type": "code",
   "execution_count": 17,
   "metadata": {},
   "outputs": [
    {
     "data": {
      "text/plain": [
       "False    1142\n",
       "True        1\n",
       "dtype: int64"
      ]
     },
     "execution_count": 17,
     "metadata": {},
     "output_type": "execute_result"
    }
   ],
   "source": [
    "pizza_df.duplicated().value_counts()"
   ]
  },
  {
   "cell_type": "markdown",
   "metadata": {},
   "source": [
    "Using one line of code, drop all duplicate records."
   ]
  },
  {
   "cell_type": "code",
   "execution_count": 19,
   "metadata": {},
   "outputs": [],
   "source": [
    "pizza_df.drop_duplicates(inplace=True)"
   ]
  }
 ],
 "metadata": {
  "kernelspec": {
   "display_name": "Python 2",
   "language": "python",
   "name": "python2"
  },
  "language_info": {
   "codemirror_mode": {
    "name": "ipython",
    "version": 2
   },
   "file_extension": ".py",
   "mimetype": "text/x-python",
   "name": "python",
   "nbconvert_exporter": "python",
   "pygments_lexer": "ipython2",
   "version": "2.7.11"
  }
 },
 "nbformat": 4,
 "nbformat_minor": 2
}
