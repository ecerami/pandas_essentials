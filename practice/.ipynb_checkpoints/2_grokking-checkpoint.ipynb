{
 "cells": [
  {
   "cell_type": "markdown",
   "metadata": {
    "collapsed": true
   },
   "source": [
    "# Pandas Essentials:  Loading and Grokking your Data \n",
    "\n",
    "The notebook exercises below provide practice in loading and grokking your data.  We focus on three months of data from the [Bay Area Bike Share](http://www.bayareabikeshare.com/open-data) program."
   ]
  },
  {
   "cell_type": "markdown",
   "metadata": {},
   "source": [
    "# Imports"
   ]
  },
  {
   "cell_type": "markdown",
   "metadata": {},
   "source": [
    "In the cell below, import the pandas library."
   ]
  },
  {
   "cell_type": "code",
   "execution_count": 4,
   "metadata": {
    "collapsed": true
   },
   "outputs": [],
   "source": []
  },
  {
   "cell_type": "markdown",
   "metadata": {},
   "source": [
    "# Loading Data"
   ]
  },
  {
   "cell_type": "markdown",
   "metadata": {
    "collapsed": true
   },
   "source": [
    "In the cell below, load the \"data/babs_station_data.csv\" into a variable called `stations_df`.  This represents all the stations within the Bay Area Bike Share program."
   ]
  },
  {
   "cell_type": "code",
   "execution_count": 5,
   "metadata": {
    "collapsed": true
   },
   "outputs": [],
   "source": []
  },
  {
   "cell_type": "markdown",
   "metadata": {},
   "source": [
    "In the cell below, load the \"data/babs_weather_april_thru_june_2016.csv\" into a variable called `weather_df`.  This represents weather data for April through June, 2016."
   ]
  },
  {
   "cell_type": "code",
   "execution_count": 6,
   "metadata": {
    "collapsed": true
   },
   "outputs": [],
   "source": []
  },
  {
   "cell_type": "markdown",
   "metadata": {},
   "source": [
    "In the cell below, load the \"babs_trips_april_thru_june_2016.csv\" into a variable called `trips_df`.  This represents all rides for April through June, 2016."
   ]
  },
  {
   "cell_type": "code",
   "execution_count": 13,
   "metadata": {
    "collapsed": true
   },
   "outputs": [],
   "source": []
  },
  {
   "cell_type": "markdown",
   "metadata": {},
   "source": [
    "# Getting the shape of your data"
   ]
  },
  {
   "cell_type": "markdown",
   "metadata": {},
   "source": [
    "In the cell below, write one line of code to determine the total number of stations in the Bay Area Bike Share program. [You should get 67]."
   ]
  },
  {
   "cell_type": "code",
   "execution_count": 12,
   "metadata": {},
   "outputs": [
    {
     "data": {
      "text/plain": [
       "67"
      ]
     },
     "execution_count": 12,
     "metadata": {},
     "output_type": "execute_result"
    }
   ],
   "source": []
  },
  {
   "cell_type": "markdown",
   "metadata": {},
   "source": [
    "In the cell below, write one line of code to determine the total number of columns within the `weather_df` data frame.  [You should get 24]."
   ]
  },
  {
   "cell_type": "code",
   "execution_count": 17,
   "metadata": {},
   "outputs": [
    {
     "data": {
      "text/plain": [
       "24"
      ]
     },
     "execution_count": 17,
     "metadata": {},
     "output_type": "execute_result"
    }
   ],
   "source": []
  },
  {
   "cell_type": "markdown",
   "metadata": {},
   "source": [
    "In the cell below, write one line of code to determine the total number of rides in the `trips_df` data frame.  [You should get 83537]."
   ]
  },
  {
   "cell_type": "code",
   "execution_count": 19,
   "metadata": {},
   "outputs": [
    {
     "data": {
      "text/plain": [
       "83537"
      ]
     },
     "execution_count": 19,
     "metadata": {},
     "output_type": "execute_result"
    }
   ],
   "source": []
  },
  {
   "cell_type": "markdown",
   "metadata": {},
   "source": [
    "## Peeking at your data"
   ]
  },
  {
   "cell_type": "markdown",
   "metadata": {},
   "source": [
    "In the cell below, take a peek at the *first few* rows of the `stations_df` data frame."
   ]
  },
  {
   "cell_type": "code",
   "execution_count": 18,
   "metadata": {},
   "outputs": [
    {
     "data": {
      "text/html": [
       "<div>\n",
       "<table border=\"1\" class=\"dataframe\">\n",
       "  <thead>\n",
       "    <tr style=\"text-align: right;\">\n",
       "      <th></th>\n",
       "      <th>station_id</th>\n",
       "      <th>name</th>\n",
       "      <th>lat</th>\n",
       "      <th>long</th>\n",
       "      <th>dockcount</th>\n",
       "      <th>landmark</th>\n",
       "      <th>installation</th>\n",
       "    </tr>\n",
       "  </thead>\n",
       "  <tbody>\n",
       "    <tr>\n",
       "      <th>0</th>\n",
       "      <td>2</td>\n",
       "      <td>San Jose Diridon Caltrain Station</td>\n",
       "      <td>37.329732</td>\n",
       "      <td>-121.901782</td>\n",
       "      <td>27</td>\n",
       "      <td>San Jose</td>\n",
       "      <td>8/6/2013</td>\n",
       "    </tr>\n",
       "    <tr>\n",
       "      <th>1</th>\n",
       "      <td>3</td>\n",
       "      <td>San Jose Civic Center</td>\n",
       "      <td>37.330698</td>\n",
       "      <td>-121.888979</td>\n",
       "      <td>15</td>\n",
       "      <td>San Jose</td>\n",
       "      <td>8/5/2013</td>\n",
       "    </tr>\n",
       "    <tr>\n",
       "      <th>2</th>\n",
       "      <td>4</td>\n",
       "      <td>Santa Clara at Almaden</td>\n",
       "      <td>37.333988</td>\n",
       "      <td>-121.894902</td>\n",
       "      <td>11</td>\n",
       "      <td>San Jose</td>\n",
       "      <td>8/6/2013</td>\n",
       "    </tr>\n",
       "    <tr>\n",
       "      <th>3</th>\n",
       "      <td>5</td>\n",
       "      <td>Adobe on Almaden</td>\n",
       "      <td>37.331415</td>\n",
       "      <td>-121.893200</td>\n",
       "      <td>19</td>\n",
       "      <td>San Jose</td>\n",
       "      <td>8/5/2013</td>\n",
       "    </tr>\n",
       "    <tr>\n",
       "      <th>4</th>\n",
       "      <td>6</td>\n",
       "      <td>San Pedro Square</td>\n",
       "      <td>37.336721</td>\n",
       "      <td>-121.894074</td>\n",
       "      <td>15</td>\n",
       "      <td>San Jose</td>\n",
       "      <td>8/7/2013</td>\n",
       "    </tr>\n",
       "  </tbody>\n",
       "</table>\n",
       "</div>"
      ],
      "text/plain": [
       "   station_id                               name        lat        long  \\\n",
       "0           2  San Jose Diridon Caltrain Station  37.329732 -121.901782   \n",
       "1           3              San Jose Civic Center  37.330698 -121.888979   \n",
       "2           4             Santa Clara at Almaden  37.333988 -121.894902   \n",
       "3           5                   Adobe on Almaden  37.331415 -121.893200   \n",
       "4           6                   San Pedro Square  37.336721 -121.894074   \n",
       "\n",
       "   dockcount  landmark installation  \n",
       "0         27  San Jose     8/6/2013  \n",
       "1         15  San Jose     8/5/2013  \n",
       "2         11  San Jose     8/6/2013  \n",
       "3         19  San Jose     8/5/2013  \n",
       "4         15  San Jose     8/7/2013  "
      ]
     },
     "execution_count": 18,
     "metadata": {},
     "output_type": "execute_result"
    }
   ],
   "source": []
  },
  {
   "cell_type": "markdown",
   "metadata": {},
   "source": [
    "In the cell below, take a peek at the *first few* rows of the `weather_df` data frame."
   ]
  },
  {
   "cell_type": "code",
   "execution_count": 22,
   "metadata": {},
   "outputs": [
    {
     "data": {
      "text/html": [
       "<div>\n",
       "<table border=\"1\" class=\"dataframe\">\n",
       "  <thead>\n",
       "    <tr style=\"text-align: right;\">\n",
       "      <th></th>\n",
       "      <th>PDT</th>\n",
       "      <th>Max TemperatureF</th>\n",
       "      <th>Mean TemperatureF</th>\n",
       "      <th>Min TemperatureF</th>\n",
       "      <th>Max Dew PointF</th>\n",
       "      <th>MeanDew PointF</th>\n",
       "      <th>Min DewpointF</th>\n",
       "      <th>Max Humidity</th>\n",
       "      <th>Mean Humidity</th>\n",
       "      <th>Min Humidity</th>\n",
       "      <th>...</th>\n",
       "      <th>Mean VisibilityMiles</th>\n",
       "      <th>Min VisibilityMiles</th>\n",
       "      <th>Max Wind SpeedMPH</th>\n",
       "      <th>Mean Wind SpeedMPH</th>\n",
       "      <th>Max Gust SpeedMPH</th>\n",
       "      <th>PrecipitationIn</th>\n",
       "      <th>CloudCover</th>\n",
       "      <th>Events</th>\n",
       "      <th>WindDirDegrees</th>\n",
       "      <th>ZIP</th>\n",
       "    </tr>\n",
       "  </thead>\n",
       "  <tbody>\n",
       "    <tr>\n",
       "      <th>0</th>\n",
       "      <td>2016-04-01</td>\n",
       "      <td>63</td>\n",
       "      <td>58</td>\n",
       "      <td>53</td>\n",
       "      <td>48</td>\n",
       "      <td>47</td>\n",
       "      <td>46</td>\n",
       "      <td>83</td>\n",
       "      <td>70</td>\n",
       "      <td>56</td>\n",
       "      <td>...</td>\n",
       "      <td>10.0</td>\n",
       "      <td>10.0</td>\n",
       "      <td>20</td>\n",
       "      <td>13</td>\n",
       "      <td>23.0</td>\n",
       "      <td>0</td>\n",
       "      <td>4</td>\n",
       "      <td>NaN</td>\n",
       "      <td>264</td>\n",
       "      <td>94107</td>\n",
       "    </tr>\n",
       "    <tr>\n",
       "      <th>1</th>\n",
       "      <td>2016-04-02</td>\n",
       "      <td>69</td>\n",
       "      <td>60</td>\n",
       "      <td>51</td>\n",
       "      <td>50</td>\n",
       "      <td>47</td>\n",
       "      <td>46</td>\n",
       "      <td>89</td>\n",
       "      <td>70</td>\n",
       "      <td>51</td>\n",
       "      <td>...</td>\n",
       "      <td>10.0</td>\n",
       "      <td>10.0</td>\n",
       "      <td>22</td>\n",
       "      <td>8</td>\n",
       "      <td>24.0</td>\n",
       "      <td>0</td>\n",
       "      <td>6</td>\n",
       "      <td>NaN</td>\n",
       "      <td>270</td>\n",
       "      <td>94107</td>\n",
       "    </tr>\n",
       "    <tr>\n",
       "      <th>2</th>\n",
       "      <td>2016-04-03</td>\n",
       "      <td>63</td>\n",
       "      <td>57</td>\n",
       "      <td>51</td>\n",
       "      <td>51</td>\n",
       "      <td>48</td>\n",
       "      <td>46</td>\n",
       "      <td>89</td>\n",
       "      <td>75</td>\n",
       "      <td>60</td>\n",
       "      <td>...</td>\n",
       "      <td>10.0</td>\n",
       "      <td>8.0</td>\n",
       "      <td>22</td>\n",
       "      <td>9</td>\n",
       "      <td>24.0</td>\n",
       "      <td>0</td>\n",
       "      <td>6</td>\n",
       "      <td>NaN</td>\n",
       "      <td>268</td>\n",
       "      <td>94107</td>\n",
       "    </tr>\n",
       "    <tr>\n",
       "      <th>3</th>\n",
       "      <td>2016-04-04</td>\n",
       "      <td>68</td>\n",
       "      <td>61</td>\n",
       "      <td>54</td>\n",
       "      <td>52</td>\n",
       "      <td>50</td>\n",
       "      <td>48</td>\n",
       "      <td>86</td>\n",
       "      <td>68</td>\n",
       "      <td>49</td>\n",
       "      <td>...</td>\n",
       "      <td>9.0</td>\n",
       "      <td>2.0</td>\n",
       "      <td>16</td>\n",
       "      <td>6</td>\n",
       "      <td>20.0</td>\n",
       "      <td>0</td>\n",
       "      <td>4</td>\n",
       "      <td>NaN</td>\n",
       "      <td>228</td>\n",
       "      <td>94107</td>\n",
       "    </tr>\n",
       "    <tr>\n",
       "      <th>4</th>\n",
       "      <td>2016-04-05</td>\n",
       "      <td>79</td>\n",
       "      <td>64</td>\n",
       "      <td>48</td>\n",
       "      <td>52</td>\n",
       "      <td>46</td>\n",
       "      <td>39</td>\n",
       "      <td>89</td>\n",
       "      <td>60</td>\n",
       "      <td>31</td>\n",
       "      <td>...</td>\n",
       "      <td>10.0</td>\n",
       "      <td>7.0</td>\n",
       "      <td>16</td>\n",
       "      <td>6</td>\n",
       "      <td>18.0</td>\n",
       "      <td>0</td>\n",
       "      <td>1</td>\n",
       "      <td>NaN</td>\n",
       "      <td>277</td>\n",
       "      <td>94107</td>\n",
       "    </tr>\n",
       "  </tbody>\n",
       "</table>\n",
       "<p>5 rows × 24 columns</p>\n",
       "</div>"
      ],
      "text/plain": [
       "          PDT  Max TemperatureF  Mean TemperatureF  Min TemperatureF  \\\n",
       "0  2016-04-01                63                 58                53   \n",
       "1  2016-04-02                69                 60                51   \n",
       "2  2016-04-03                63                 57                51   \n",
       "3  2016-04-04                68                 61                54   \n",
       "4  2016-04-05                79                 64                48   \n",
       "\n",
       "   Max Dew PointF  MeanDew PointF  Min DewpointF  Max Humidity  \\\n",
       "0              48              47             46            83   \n",
       "1              50              47             46            89   \n",
       "2              51              48             46            89   \n",
       "3              52              50             48            86   \n",
       "4              52              46             39            89   \n",
       "\n",
       "    Mean Humidity   Min Humidity  ...     Mean VisibilityMiles  \\\n",
       "0              70             56  ...                     10.0   \n",
       "1              70             51  ...                     10.0   \n",
       "2              75             60  ...                     10.0   \n",
       "3              68             49  ...                      9.0   \n",
       "4              60             31  ...                     10.0   \n",
       "\n",
       "    Min VisibilityMiles   Max Wind SpeedMPH   Mean Wind SpeedMPH  \\\n",
       "0                  10.0                  20                   13   \n",
       "1                  10.0                  22                    8   \n",
       "2                   8.0                  22                    9   \n",
       "3                   2.0                  16                    6   \n",
       "4                   7.0                  16                    6   \n",
       "\n",
       "    Max Gust SpeedMPH  PrecipitationIn   CloudCover   Events   WindDirDegrees  \\\n",
       "0                23.0                0            4      NaN              264   \n",
       "1                24.0                0            6      NaN              270   \n",
       "2                24.0                0            6      NaN              268   \n",
       "3                20.0                0            4      NaN              228   \n",
       "4                18.0                0            1      NaN              277   \n",
       "\n",
       "     ZIP  \n",
       "0  94107  \n",
       "1  94107  \n",
       "2  94107  \n",
       "3  94107  \n",
       "4  94107  \n",
       "\n",
       "[5 rows x 24 columns]"
      ]
     },
     "execution_count": 22,
     "metadata": {},
     "output_type": "execute_result"
    }
   ],
   "source": []
  },
  {
   "cell_type": "markdown",
   "metadata": {},
   "source": [
    "In the cell below, take a peek at the *last few* rows of the `trips_df` data frame."
   ]
  },
  {
   "cell_type": "code",
   "execution_count": 23,
   "metadata": {},
   "outputs": [
    {
     "data": {
      "text/html": [
       "<div>\n",
       "<table border=\"1\" class=\"dataframe\">\n",
       "  <thead>\n",
       "    <tr style=\"text-align: right;\">\n",
       "      <th></th>\n",
       "      <th>Trip ID</th>\n",
       "      <th>Duration</th>\n",
       "      <th>Start Date</th>\n",
       "      <th>Start Station</th>\n",
       "      <th>Start Terminal</th>\n",
       "      <th>End Date</th>\n",
       "      <th>End Station</th>\n",
       "      <th>End Terminal</th>\n",
       "      <th>Bike #</th>\n",
       "      <th>Subscriber Type</th>\n",
       "      <th>Zip Code</th>\n",
       "    </tr>\n",
       "  </thead>\n",
       "  <tbody>\n",
       "    <tr>\n",
       "      <th>83532</th>\n",
       "      <td>1260323</td>\n",
       "      <td>429</td>\n",
       "      <td>2016-06-29 23:19:00</td>\n",
       "      <td>2nd at Townsend</td>\n",
       "      <td>61</td>\n",
       "      <td>2016-06-29 23:27:00</td>\n",
       "      <td>Townsend at 7th</td>\n",
       "      <td>65</td>\n",
       "      <td>292</td>\n",
       "      <td>Subscriber</td>\n",
       "      <td>94107</td>\n",
       "    </tr>\n",
       "    <tr>\n",
       "      <th>83533</th>\n",
       "      <td>1260324</td>\n",
       "      <td>368</td>\n",
       "      <td>2016-06-29 23:20:00</td>\n",
       "      <td>Howard at 2nd</td>\n",
       "      <td>63</td>\n",
       "      <td>2016-06-29 23:26:00</td>\n",
       "      <td>San Francisco Caltrain 2 (330 Townsend)</td>\n",
       "      <td>69</td>\n",
       "      <td>468</td>\n",
       "      <td>Subscriber</td>\n",
       "      <td>94107</td>\n",
       "    </tr>\n",
       "    <tr>\n",
       "      <th>83534</th>\n",
       "      <td>1260325</td>\n",
       "      <td>267</td>\n",
       "      <td>2016-06-29 23:26:00</td>\n",
       "      <td>Clay at Battery</td>\n",
       "      <td>41</td>\n",
       "      <td>2016-06-29 23:30:00</td>\n",
       "      <td>Grant Avenue at Columbus Avenue</td>\n",
       "      <td>73</td>\n",
       "      <td>132</td>\n",
       "      <td>Subscriber</td>\n",
       "      <td>94133</td>\n",
       "    </tr>\n",
       "    <tr>\n",
       "      <th>83535</th>\n",
       "      <td>1260326</td>\n",
       "      <td>682</td>\n",
       "      <td>2016-06-29 23:40:00</td>\n",
       "      <td>San Francisco City Hall</td>\n",
       "      <td>58</td>\n",
       "      <td>2016-06-29 23:52:00</td>\n",
       "      <td>2nd at South Park</td>\n",
       "      <td>64</td>\n",
       "      <td>549</td>\n",
       "      <td>Subscriber</td>\n",
       "      <td>94107</td>\n",
       "    </tr>\n",
       "    <tr>\n",
       "      <th>83536</th>\n",
       "      <td>1260327</td>\n",
       "      <td>658</td>\n",
       "      <td>2016-06-29 23:41:00</td>\n",
       "      <td>San Francisco City Hall</td>\n",
       "      <td>58</td>\n",
       "      <td>2016-06-29 23:52:00</td>\n",
       "      <td>2nd at South Park</td>\n",
       "      <td>64</td>\n",
       "      <td>348</td>\n",
       "      <td>Subscriber</td>\n",
       "      <td>94102</td>\n",
       "    </tr>\n",
       "  </tbody>\n",
       "</table>\n",
       "</div>"
      ],
      "text/plain": [
       "       Trip ID  Duration           Start Date            Start Station  \\\n",
       "83532  1260323       429  2016-06-29 23:19:00          2nd at Townsend   \n",
       "83533  1260324       368  2016-06-29 23:20:00            Howard at 2nd   \n",
       "83534  1260325       267  2016-06-29 23:26:00          Clay at Battery   \n",
       "83535  1260326       682  2016-06-29 23:40:00  San Francisco City Hall   \n",
       "83536  1260327       658  2016-06-29 23:41:00  San Francisco City Hall   \n",
       "\n",
       "       Start Terminal             End Date  \\\n",
       "83532              61  2016-06-29 23:27:00   \n",
       "83533              63  2016-06-29 23:26:00   \n",
       "83534              41  2016-06-29 23:30:00   \n",
       "83535              58  2016-06-29 23:52:00   \n",
       "83536              58  2016-06-29 23:52:00   \n",
       "\n",
       "                                   End Station  End Terminal  Bike #  \\\n",
       "83532                          Townsend at 7th            65     292   \n",
       "83533  San Francisco Caltrain 2 (330 Townsend)            69     468   \n",
       "83534          Grant Avenue at Columbus Avenue            73     132   \n",
       "83535                        2nd at South Park            64     549   \n",
       "83536                        2nd at South Park            64     348   \n",
       "\n",
       "      Subscriber Type Zip Code  \n",
       "83532      Subscriber    94107  \n",
       "83533      Subscriber    94107  \n",
       "83534      Subscriber    94133  \n",
       "83535      Subscriber    94107  \n",
       "83536      Subscriber    94102  "
      ]
     },
     "execution_count": 23,
     "metadata": {},
     "output_type": "execute_result"
    }
   ],
   "source": []
  },
  {
   "cell_type": "markdown",
   "metadata": {},
   "source": [
    "## Understanding indexes, columns and data types"
   ]
  },
  {
   "cell_type": "markdown",
   "metadata": {},
   "source": [
    "In the cell below, write one line of code to display summary information for the `stations_df` data frame."
   ]
  },
  {
   "cell_type": "code",
   "execution_count": 27,
   "metadata": {},
   "outputs": [
    {
     "name": "stdout",
     "output_type": "stream",
     "text": [
      "<class 'pandas.core.frame.DataFrame'>\n",
      "RangeIndex: 67 entries, 0 to 66\n",
      "Data columns (total 7 columns):\n",
      "station_id      67 non-null int64\n",
      "name            67 non-null object\n",
      "lat             67 non-null float64\n",
      "long            67 non-null float64\n",
      "dockcount       67 non-null int64\n",
      "landmark        67 non-null object\n",
      "installation    67 non-null object\n",
      "dtypes: float64(2), int64(2), object(3)\n",
      "memory usage: 3.7+ KB\n"
     ]
    }
   ],
   "source": []
  },
  {
   "cell_type": "markdown",
   "metadata": {},
   "source": [
    "In the cell below, output just the column names in the `trips_df` data frame."
   ]
  },
  {
   "cell_type": "code",
   "execution_count": 29,
   "metadata": {},
   "outputs": [
    {
     "data": {
      "text/plain": [
       "Index([u'Trip ID', u'Duration', u'Start Date', u'Start Station',\n",
       "       u'Start Terminal', u'End Date', u'End Station', u'End Terminal',\n",
       "       u'Bike #', u'Subscriber Type', u'Zip Code'],\n",
       "      dtype='object')"
      ]
     },
     "execution_count": 29,
     "metadata": {},
     "output_type": "execute_result"
    }
   ],
   "source": []
  },
  {
   "cell_type": "markdown",
   "metadata": {},
   "source": [
    "In the cell below, output just the data types of all columns in the `trips_df` data frame."
   ]
  },
  {
   "cell_type": "code",
   "execution_count": 31,
   "metadata": {},
   "outputs": [
    {
     "data": {
      "text/plain": [
       "Trip ID             int64\n",
       "Duration            int64\n",
       "Start Date         object\n",
       "Start Station      object\n",
       "Start Terminal      int64\n",
       "End Date           object\n",
       "End Station        object\n",
       "End Terminal        int64\n",
       "Bike #              int64\n",
       "Subscriber Type    object\n",
       "Zip Code           object\n",
       "dtype: object"
      ]
     },
     "execution_count": 31,
     "metadata": {},
     "output_type": "execute_result"
    }
   ],
   "source": []
  },
  {
   "cell_type": "markdown",
   "metadata": {},
   "source": [
    "## Generating descriptive statistics for your data"
   ]
  },
  {
   "cell_type": "markdown",
   "metadata": {},
   "source": [
    "Using the `trips_df` data frame and the `describe()` method, determine the average trip duration.  [You should get 832.5 seconds or 13.875 minutes)."
   ]
  },
  {
   "cell_type": "code",
   "execution_count": 33,
   "metadata": {},
   "outputs": [
    {
     "data": {
      "text/html": [
       "<div>\n",
       "<table border=\"1\" class=\"dataframe\">\n",
       "  <thead>\n",
       "    <tr style=\"text-align: right;\">\n",
       "      <th></th>\n",
       "      <th>Trip ID</th>\n",
       "      <th>Duration</th>\n",
       "      <th>Start Terminal</th>\n",
       "      <th>End Terminal</th>\n",
       "      <th>Bike #</th>\n",
       "    </tr>\n",
       "  </thead>\n",
       "  <tbody>\n",
       "    <tr>\n",
       "      <th>count</th>\n",
       "      <td>8.353700e+04</td>\n",
       "      <td>83537.000000</td>\n",
       "      <td>83537.000000</td>\n",
       "      <td>83537.000000</td>\n",
       "      <td>83537.000000</td>\n",
       "    </tr>\n",
       "    <tr>\n",
       "      <th>mean</th>\n",
       "      <td>1.203567e+06</td>\n",
       "      <td>832.598884</td>\n",
       "      <td>58.626154</td>\n",
       "      <td>58.625818</td>\n",
       "      <td>416.862169</td>\n",
       "    </tr>\n",
       "    <tr>\n",
       "      <th>std</th>\n",
       "      <td>3.307307e+04</td>\n",
       "      <td>2406.203818</td>\n",
       "      <td>16.187076</td>\n",
       "      <td>16.206403</td>\n",
       "      <td>163.308049</td>\n",
       "    </tr>\n",
       "    <tr>\n",
       "      <th>min</th>\n",
       "      <td>1.145294e+06</td>\n",
       "      <td>60.000000</td>\n",
       "      <td>2.000000</td>\n",
       "      <td>2.000000</td>\n",
       "      <td>9.000000</td>\n",
       "    </tr>\n",
       "    <tr>\n",
       "      <th>25%</th>\n",
       "      <td>1.175413e+06</td>\n",
       "      <td>354.000000</td>\n",
       "      <td>50.000000</td>\n",
       "      <td>50.000000</td>\n",
       "      <td>317.000000</td>\n",
       "    </tr>\n",
       "    <tr>\n",
       "      <th>50%</th>\n",
       "      <td>1.203965e+06</td>\n",
       "      <td>520.000000</td>\n",
       "      <td>62.000000</td>\n",
       "      <td>61.000000</td>\n",
       "      <td>427.000000</td>\n",
       "    </tr>\n",
       "    <tr>\n",
       "      <th>75%</th>\n",
       "      <td>1.232189e+06</td>\n",
       "      <td>737.000000</td>\n",
       "      <td>70.000000</td>\n",
       "      <td>70.000000</td>\n",
       "      <td>538.000000</td>\n",
       "    </tr>\n",
       "    <tr>\n",
       "      <th>max</th>\n",
       "      <td>1.260327e+06</td>\n",
       "      <td>85900.000000</td>\n",
       "      <td>89.000000</td>\n",
       "      <td>89.000000</td>\n",
       "      <td>878.000000</td>\n",
       "    </tr>\n",
       "  </tbody>\n",
       "</table>\n",
       "</div>"
      ],
      "text/plain": [
       "            Trip ID      Duration  Start Terminal  End Terminal        Bike #\n",
       "count  8.353700e+04  83537.000000    83537.000000  83537.000000  83537.000000\n",
       "mean   1.203567e+06    832.598884       58.626154     58.625818    416.862169\n",
       "std    3.307307e+04   2406.203818       16.187076     16.206403    163.308049\n",
       "min    1.145294e+06     60.000000        2.000000      2.000000      9.000000\n",
       "25%    1.175413e+06    354.000000       50.000000     50.000000    317.000000\n",
       "50%    1.203965e+06    520.000000       62.000000     61.000000    427.000000\n",
       "75%    1.232189e+06    737.000000       70.000000     70.000000    538.000000\n",
       "max    1.260327e+06  85900.000000       89.000000     89.000000    878.000000"
      ]
     },
     "execution_count": 33,
     "metadata": {},
     "output_type": "execute_result"
    }
   ],
   "source": []
  },
  {
   "cell_type": "markdown",
   "metadata": {},
   "source": [
    "Using the `trips_df` data frame and the `describe()` method, determine the total number of unique start stations and the most popular start station.  [You should get 72 unique start stations, with the most popular being San Francisco Caltrain (Townsend at 4th), freq=6437]."
   ]
  },
  {
   "cell_type": "code",
   "execution_count": 35,
   "metadata": {},
   "outputs": [
    {
     "data": {
      "text/html": [
       "<div>\n",
       "<table border=\"1\" class=\"dataframe\">\n",
       "  <thead>\n",
       "    <tr style=\"text-align: right;\">\n",
       "      <th></th>\n",
       "      <th>Trip ID</th>\n",
       "      <th>Duration</th>\n",
       "      <th>Start Date</th>\n",
       "      <th>Start Station</th>\n",
       "      <th>Start Terminal</th>\n",
       "      <th>End Date</th>\n",
       "      <th>End Station</th>\n",
       "      <th>End Terminal</th>\n",
       "      <th>Bike #</th>\n",
       "      <th>Subscriber Type</th>\n",
       "      <th>Zip Code</th>\n",
       "    </tr>\n",
       "  </thead>\n",
       "  <tbody>\n",
       "    <tr>\n",
       "      <th>count</th>\n",
       "      <td>8.353700e+04</td>\n",
       "      <td>83537.000000</td>\n",
       "      <td>83537</td>\n",
       "      <td>83537</td>\n",
       "      <td>83537.000000</td>\n",
       "      <td>83537</td>\n",
       "      <td>83537</td>\n",
       "      <td>83537.000000</td>\n",
       "      <td>83537.000000</td>\n",
       "      <td>83537</td>\n",
       "      <td>83509</td>\n",
       "    </tr>\n",
       "    <tr>\n",
       "      <th>unique</th>\n",
       "      <td>NaN</td>\n",
       "      <td>NaN</td>\n",
       "      <td>42236</td>\n",
       "      <td>72</td>\n",
       "      <td>NaN</td>\n",
       "      <td>42245</td>\n",
       "      <td>72</td>\n",
       "      <td>NaN</td>\n",
       "      <td>NaN</td>\n",
       "      <td>2</td>\n",
       "      <td>1744</td>\n",
       "    </tr>\n",
       "    <tr>\n",
       "      <th>top</th>\n",
       "      <td>NaN</td>\n",
       "      <td>NaN</td>\n",
       "      <td>2016-04-15 08:49:00</td>\n",
       "      <td>San Francisco Caltrain (Townsend at 4th)</td>\n",
       "      <td>NaN</td>\n",
       "      <td>2016-05-17 08:21:00</td>\n",
       "      <td>San Francisco Caltrain (Townsend at 4th)</td>\n",
       "      <td>NaN</td>\n",
       "      <td>NaN</td>\n",
       "      <td>Subscriber</td>\n",
       "      <td>94107</td>\n",
       "    </tr>\n",
       "    <tr>\n",
       "      <th>freq</th>\n",
       "      <td>NaN</td>\n",
       "      <td>NaN</td>\n",
       "      <td>15</td>\n",
       "      <td>6437</td>\n",
       "      <td>NaN</td>\n",
       "      <td>13</td>\n",
       "      <td>7205</td>\n",
       "      <td>NaN</td>\n",
       "      <td>NaN</td>\n",
       "      <td>74163</td>\n",
       "      <td>6707</td>\n",
       "    </tr>\n",
       "    <tr>\n",
       "      <th>mean</th>\n",
       "      <td>1.203567e+06</td>\n",
       "      <td>832.598884</td>\n",
       "      <td>NaN</td>\n",
       "      <td>NaN</td>\n",
       "      <td>58.626154</td>\n",
       "      <td>NaN</td>\n",
       "      <td>NaN</td>\n",
       "      <td>58.625818</td>\n",
       "      <td>416.862169</td>\n",
       "      <td>NaN</td>\n",
       "      <td>NaN</td>\n",
       "    </tr>\n",
       "    <tr>\n",
       "      <th>std</th>\n",
       "      <td>3.307307e+04</td>\n",
       "      <td>2406.203818</td>\n",
       "      <td>NaN</td>\n",
       "      <td>NaN</td>\n",
       "      <td>16.187076</td>\n",
       "      <td>NaN</td>\n",
       "      <td>NaN</td>\n",
       "      <td>16.206403</td>\n",
       "      <td>163.308049</td>\n",
       "      <td>NaN</td>\n",
       "      <td>NaN</td>\n",
       "    </tr>\n",
       "    <tr>\n",
       "      <th>min</th>\n",
       "      <td>1.145294e+06</td>\n",
       "      <td>60.000000</td>\n",
       "      <td>NaN</td>\n",
       "      <td>NaN</td>\n",
       "      <td>2.000000</td>\n",
       "      <td>NaN</td>\n",
       "      <td>NaN</td>\n",
       "      <td>2.000000</td>\n",
       "      <td>9.000000</td>\n",
       "      <td>NaN</td>\n",
       "      <td>NaN</td>\n",
       "    </tr>\n",
       "    <tr>\n",
       "      <th>25%</th>\n",
       "      <td>1.175413e+06</td>\n",
       "      <td>354.000000</td>\n",
       "      <td>NaN</td>\n",
       "      <td>NaN</td>\n",
       "      <td>50.000000</td>\n",
       "      <td>NaN</td>\n",
       "      <td>NaN</td>\n",
       "      <td>50.000000</td>\n",
       "      <td>317.000000</td>\n",
       "      <td>NaN</td>\n",
       "      <td>NaN</td>\n",
       "    </tr>\n",
       "    <tr>\n",
       "      <th>50%</th>\n",
       "      <td>1.203965e+06</td>\n",
       "      <td>520.000000</td>\n",
       "      <td>NaN</td>\n",
       "      <td>NaN</td>\n",
       "      <td>62.000000</td>\n",
       "      <td>NaN</td>\n",
       "      <td>NaN</td>\n",
       "      <td>61.000000</td>\n",
       "      <td>427.000000</td>\n",
       "      <td>NaN</td>\n",
       "      <td>NaN</td>\n",
       "    </tr>\n",
       "    <tr>\n",
       "      <th>75%</th>\n",
       "      <td>1.232189e+06</td>\n",
       "      <td>737.000000</td>\n",
       "      <td>NaN</td>\n",
       "      <td>NaN</td>\n",
       "      <td>70.000000</td>\n",
       "      <td>NaN</td>\n",
       "      <td>NaN</td>\n",
       "      <td>70.000000</td>\n",
       "      <td>538.000000</td>\n",
       "      <td>NaN</td>\n",
       "      <td>NaN</td>\n",
       "    </tr>\n",
       "    <tr>\n",
       "      <th>max</th>\n",
       "      <td>1.260327e+06</td>\n",
       "      <td>85900.000000</td>\n",
       "      <td>NaN</td>\n",
       "      <td>NaN</td>\n",
       "      <td>89.000000</td>\n",
       "      <td>NaN</td>\n",
       "      <td>NaN</td>\n",
       "      <td>89.000000</td>\n",
       "      <td>878.000000</td>\n",
       "      <td>NaN</td>\n",
       "      <td>NaN</td>\n",
       "    </tr>\n",
       "  </tbody>\n",
       "</table>\n",
       "</div>"
      ],
      "text/plain": [
       "             Trip ID      Duration           Start Date  \\\n",
       "count   8.353700e+04  83537.000000                83537   \n",
       "unique           NaN           NaN                42236   \n",
       "top              NaN           NaN  2016-04-15 08:49:00   \n",
       "freq             NaN           NaN                   15   \n",
       "mean    1.203567e+06    832.598884                  NaN   \n",
       "std     3.307307e+04   2406.203818                  NaN   \n",
       "min     1.145294e+06     60.000000                  NaN   \n",
       "25%     1.175413e+06    354.000000                  NaN   \n",
       "50%     1.203965e+06    520.000000                  NaN   \n",
       "75%     1.232189e+06    737.000000                  NaN   \n",
       "max     1.260327e+06  85900.000000                  NaN   \n",
       "\n",
       "                                   Start Station  Start Terminal  \\\n",
       "count                                      83537    83537.000000   \n",
       "unique                                        72             NaN   \n",
       "top     San Francisco Caltrain (Townsend at 4th)             NaN   \n",
       "freq                                        6437             NaN   \n",
       "mean                                         NaN       58.626154   \n",
       "std                                          NaN       16.187076   \n",
       "min                                          NaN        2.000000   \n",
       "25%                                          NaN       50.000000   \n",
       "50%                                          NaN       62.000000   \n",
       "75%                                          NaN       70.000000   \n",
       "max                                          NaN       89.000000   \n",
       "\n",
       "                   End Date                               End Station  \\\n",
       "count                 83537                                     83537   \n",
       "unique                42245                                        72   \n",
       "top     2016-05-17 08:21:00  San Francisco Caltrain (Townsend at 4th)   \n",
       "freq                     13                                      7205   \n",
       "mean                    NaN                                       NaN   \n",
       "std                     NaN                                       NaN   \n",
       "min                     NaN                                       NaN   \n",
       "25%                     NaN                                       NaN   \n",
       "50%                     NaN                                       NaN   \n",
       "75%                     NaN                                       NaN   \n",
       "max                     NaN                                       NaN   \n",
       "\n",
       "        End Terminal        Bike # Subscriber Type Zip Code  \n",
       "count   83537.000000  83537.000000           83537    83509  \n",
       "unique           NaN           NaN               2     1744  \n",
       "top              NaN           NaN      Subscriber    94107  \n",
       "freq             NaN           NaN           74163     6707  \n",
       "mean       58.625818    416.862169             NaN      NaN  \n",
       "std        16.206403    163.308049             NaN      NaN  \n",
       "min         2.000000      9.000000             NaN      NaN  \n",
       "25%        50.000000    317.000000             NaN      NaN  \n",
       "50%        61.000000    427.000000             NaN      NaN  \n",
       "75%        70.000000    538.000000             NaN      NaN  \n",
       "max        89.000000    878.000000             NaN      NaN  "
      ]
     },
     "execution_count": 35,
     "metadata": {},
     "output_type": "execute_result"
    }
   ],
   "source": []
  }
 ],
 "metadata": {
  "kernelspec": {
   "display_name": "Python 2",
   "language": "python",
   "name": "python2"
  },
  "language_info": {
   "codemirror_mode": {
    "name": "ipython",
    "version": 2
   },
   "file_extension": ".py",
   "mimetype": "text/x-python",
   "name": "python",
   "nbconvert_exporter": "python",
   "pygments_lexer": "ipython2",
   "version": "2.7.11"
  }
 },
 "nbformat": 4,
 "nbformat_minor": 2
}
